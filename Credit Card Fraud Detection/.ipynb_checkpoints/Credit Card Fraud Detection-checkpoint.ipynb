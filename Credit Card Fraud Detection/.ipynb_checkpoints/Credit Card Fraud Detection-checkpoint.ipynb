{
 "cells": [
  {
   "cell_type": "markdown",
   "metadata": {},
   "source": [
    "# Credit Card Fraud Detection"
   ]
  },
  {
   "cell_type": "markdown",
   "metadata": {},
   "source": [
    "![](https://techbox.dennikn.sk/wp-content/uploads/2016/09/Kaspersky-988x553.jpg)"
   ]
  },
  {
   "cell_type": "markdown",
   "metadata": {},
   "source": [
    "## Importing Libraries"
   ]
  },
  {
   "cell_type": "code",
   "execution_count": 1,
   "metadata": {},
   "outputs": [],
   "source": [
    "import pandas as pd\n",
    "import numpy as np \n",
    "import random\n",
    "import matplotlib.pyplot as plt \n",
    "import seaborn as sns\n",
    "\n",
    "import warnings\n",
    "warnings.filterwarnings('ignore')"
   ]
  },
  {
   "cell_type": "code",
   "execution_count": 49,
   "metadata": {},
   "outputs": [],
   "source": [
    "fraud_data = pd.read_csv(\"creditcard.csv\")"
   ]
  },
  {
   "cell_type": "markdown",
   "metadata": {},
   "source": [
    "## Exploratory Data Analysis"
   ]
  },
  {
   "cell_type": "code",
   "execution_count": 50,
   "metadata": {},
   "outputs": [
    {
     "data": {
      "text/html": [
       "<div>\n",
       "<style scoped>\n",
       "    .dataframe tbody tr th:only-of-type {\n",
       "        vertical-align: middle;\n",
       "    }\n",
       "\n",
       "    .dataframe tbody tr th {\n",
       "        vertical-align: top;\n",
       "    }\n",
       "\n",
       "    .dataframe thead th {\n",
       "        text-align: right;\n",
       "    }\n",
       "</style>\n",
       "<table border=\"1\" class=\"dataframe\">\n",
       "  <thead>\n",
       "    <tr style=\"text-align: right;\">\n",
       "      <th></th>\n",
       "      <th>Time</th>\n",
       "      <th>V1</th>\n",
       "      <th>V2</th>\n",
       "      <th>V3</th>\n",
       "      <th>V4</th>\n",
       "      <th>V5</th>\n",
       "      <th>V6</th>\n",
       "      <th>V7</th>\n",
       "      <th>V8</th>\n",
       "      <th>V9</th>\n",
       "      <th>V10</th>\n",
       "      <th>V11</th>\n",
       "      <th>V12</th>\n",
       "      <th>V13</th>\n",
       "      <th>V14</th>\n",
       "      <th>V15</th>\n",
       "      <th>V16</th>\n",
       "      <th>V17</th>\n",
       "      <th>V18</th>\n",
       "      <th>V19</th>\n",
       "      <th>V20</th>\n",
       "      <th>V21</th>\n",
       "      <th>V22</th>\n",
       "      <th>V23</th>\n",
       "      <th>V24</th>\n",
       "      <th>V25</th>\n",
       "      <th>V26</th>\n",
       "      <th>V27</th>\n",
       "      <th>V28</th>\n",
       "      <th>Amount</th>\n",
       "      <th>Class</th>\n",
       "    </tr>\n",
       "  </thead>\n",
       "  <tbody>\n",
       "    <tr>\n",
       "      <th>0</th>\n",
       "      <td>0.0</td>\n",
       "      <td>-1.359807</td>\n",
       "      <td>-0.072781</td>\n",
       "      <td>2.536347</td>\n",
       "      <td>1.378155</td>\n",
       "      <td>-0.338321</td>\n",
       "      <td>0.462388</td>\n",
       "      <td>0.239599</td>\n",
       "      <td>0.098698</td>\n",
       "      <td>0.363787</td>\n",
       "      <td>0.090794</td>\n",
       "      <td>-0.551600</td>\n",
       "      <td>-0.617801</td>\n",
       "      <td>-0.991390</td>\n",
       "      <td>-0.311169</td>\n",
       "      <td>1.468177</td>\n",
       "      <td>-0.470401</td>\n",
       "      <td>0.207971</td>\n",
       "      <td>0.025791</td>\n",
       "      <td>0.403993</td>\n",
       "      <td>0.251412</td>\n",
       "      <td>-0.018307</td>\n",
       "      <td>0.277838</td>\n",
       "      <td>-0.110474</td>\n",
       "      <td>0.066928</td>\n",
       "      <td>0.128539</td>\n",
       "      <td>-0.189115</td>\n",
       "      <td>0.133558</td>\n",
       "      <td>-0.021053</td>\n",
       "      <td>149.62</td>\n",
       "      <td>0</td>\n",
       "    </tr>\n",
       "    <tr>\n",
       "      <th>1</th>\n",
       "      <td>0.0</td>\n",
       "      <td>1.191857</td>\n",
       "      <td>0.266151</td>\n",
       "      <td>0.166480</td>\n",
       "      <td>0.448154</td>\n",
       "      <td>0.060018</td>\n",
       "      <td>-0.082361</td>\n",
       "      <td>-0.078803</td>\n",
       "      <td>0.085102</td>\n",
       "      <td>-0.255425</td>\n",
       "      <td>-0.166974</td>\n",
       "      <td>1.612727</td>\n",
       "      <td>1.065235</td>\n",
       "      <td>0.489095</td>\n",
       "      <td>-0.143772</td>\n",
       "      <td>0.635558</td>\n",
       "      <td>0.463917</td>\n",
       "      <td>-0.114805</td>\n",
       "      <td>-0.183361</td>\n",
       "      <td>-0.145783</td>\n",
       "      <td>-0.069083</td>\n",
       "      <td>-0.225775</td>\n",
       "      <td>-0.638672</td>\n",
       "      <td>0.101288</td>\n",
       "      <td>-0.339846</td>\n",
       "      <td>0.167170</td>\n",
       "      <td>0.125895</td>\n",
       "      <td>-0.008983</td>\n",
       "      <td>0.014724</td>\n",
       "      <td>2.69</td>\n",
       "      <td>0</td>\n",
       "    </tr>\n",
       "    <tr>\n",
       "      <th>2</th>\n",
       "      <td>1.0</td>\n",
       "      <td>-1.358354</td>\n",
       "      <td>-1.340163</td>\n",
       "      <td>1.773209</td>\n",
       "      <td>0.379780</td>\n",
       "      <td>-0.503198</td>\n",
       "      <td>1.800499</td>\n",
       "      <td>0.791461</td>\n",
       "      <td>0.247676</td>\n",
       "      <td>-1.514654</td>\n",
       "      <td>0.207643</td>\n",
       "      <td>0.624501</td>\n",
       "      <td>0.066084</td>\n",
       "      <td>0.717293</td>\n",
       "      <td>-0.165946</td>\n",
       "      <td>2.345865</td>\n",
       "      <td>-2.890083</td>\n",
       "      <td>1.109969</td>\n",
       "      <td>-0.121359</td>\n",
       "      <td>-2.261857</td>\n",
       "      <td>0.524980</td>\n",
       "      <td>0.247998</td>\n",
       "      <td>0.771679</td>\n",
       "      <td>0.909412</td>\n",
       "      <td>-0.689281</td>\n",
       "      <td>-0.327642</td>\n",
       "      <td>-0.139097</td>\n",
       "      <td>-0.055353</td>\n",
       "      <td>-0.059752</td>\n",
       "      <td>378.66</td>\n",
       "      <td>0</td>\n",
       "    </tr>\n",
       "    <tr>\n",
       "      <th>3</th>\n",
       "      <td>1.0</td>\n",
       "      <td>-0.966272</td>\n",
       "      <td>-0.185226</td>\n",
       "      <td>1.792993</td>\n",
       "      <td>-0.863291</td>\n",
       "      <td>-0.010309</td>\n",
       "      <td>1.247203</td>\n",
       "      <td>0.237609</td>\n",
       "      <td>0.377436</td>\n",
       "      <td>-1.387024</td>\n",
       "      <td>-0.054952</td>\n",
       "      <td>-0.226487</td>\n",
       "      <td>0.178228</td>\n",
       "      <td>0.507757</td>\n",
       "      <td>-0.287924</td>\n",
       "      <td>-0.631418</td>\n",
       "      <td>-1.059647</td>\n",
       "      <td>-0.684093</td>\n",
       "      <td>1.965775</td>\n",
       "      <td>-1.232622</td>\n",
       "      <td>-0.208038</td>\n",
       "      <td>-0.108300</td>\n",
       "      <td>0.005274</td>\n",
       "      <td>-0.190321</td>\n",
       "      <td>-1.175575</td>\n",
       "      <td>0.647376</td>\n",
       "      <td>-0.221929</td>\n",
       "      <td>0.062723</td>\n",
       "      <td>0.061458</td>\n",
       "      <td>123.50</td>\n",
       "      <td>0</td>\n",
       "    </tr>\n",
       "    <tr>\n",
       "      <th>4</th>\n",
       "      <td>2.0</td>\n",
       "      <td>-1.158233</td>\n",
       "      <td>0.877737</td>\n",
       "      <td>1.548718</td>\n",
       "      <td>0.403034</td>\n",
       "      <td>-0.407193</td>\n",
       "      <td>0.095921</td>\n",
       "      <td>0.592941</td>\n",
       "      <td>-0.270533</td>\n",
       "      <td>0.817739</td>\n",
       "      <td>0.753074</td>\n",
       "      <td>-0.822843</td>\n",
       "      <td>0.538196</td>\n",
       "      <td>1.345852</td>\n",
       "      <td>-1.119670</td>\n",
       "      <td>0.175121</td>\n",
       "      <td>-0.451449</td>\n",
       "      <td>-0.237033</td>\n",
       "      <td>-0.038195</td>\n",
       "      <td>0.803487</td>\n",
       "      <td>0.408542</td>\n",
       "      <td>-0.009431</td>\n",
       "      <td>0.798278</td>\n",
       "      <td>-0.137458</td>\n",
       "      <td>0.141267</td>\n",
       "      <td>-0.206010</td>\n",
       "      <td>0.502292</td>\n",
       "      <td>0.219422</td>\n",
       "      <td>0.215153</td>\n",
       "      <td>69.99</td>\n",
       "      <td>0</td>\n",
       "    </tr>\n",
       "  </tbody>\n",
       "</table>\n",
       "</div>"
      ],
      "text/plain": [
       "   Time        V1        V2        V3        V4        V5        V6        V7  \\\n",
       "0   0.0 -1.359807 -0.072781  2.536347  1.378155 -0.338321  0.462388  0.239599   \n",
       "1   0.0  1.191857  0.266151  0.166480  0.448154  0.060018 -0.082361 -0.078803   \n",
       "2   1.0 -1.358354 -1.340163  1.773209  0.379780 -0.503198  1.800499  0.791461   \n",
       "3   1.0 -0.966272 -0.185226  1.792993 -0.863291 -0.010309  1.247203  0.237609   \n",
       "4   2.0 -1.158233  0.877737  1.548718  0.403034 -0.407193  0.095921  0.592941   \n",
       "\n",
       "         V8        V9       V10       V11       V12       V13       V14  \\\n",
       "0  0.098698  0.363787  0.090794 -0.551600 -0.617801 -0.991390 -0.311169   \n",
       "1  0.085102 -0.255425 -0.166974  1.612727  1.065235  0.489095 -0.143772   \n",
       "2  0.247676 -1.514654  0.207643  0.624501  0.066084  0.717293 -0.165946   \n",
       "3  0.377436 -1.387024 -0.054952 -0.226487  0.178228  0.507757 -0.287924   \n",
       "4 -0.270533  0.817739  0.753074 -0.822843  0.538196  1.345852 -1.119670   \n",
       "\n",
       "        V15       V16       V17       V18       V19       V20       V21  \\\n",
       "0  1.468177 -0.470401  0.207971  0.025791  0.403993  0.251412 -0.018307   \n",
       "1  0.635558  0.463917 -0.114805 -0.183361 -0.145783 -0.069083 -0.225775   \n",
       "2  2.345865 -2.890083  1.109969 -0.121359 -2.261857  0.524980  0.247998   \n",
       "3 -0.631418 -1.059647 -0.684093  1.965775 -1.232622 -0.208038 -0.108300   \n",
       "4  0.175121 -0.451449 -0.237033 -0.038195  0.803487  0.408542 -0.009431   \n",
       "\n",
       "        V22       V23       V24       V25       V26       V27       V28  \\\n",
       "0  0.277838 -0.110474  0.066928  0.128539 -0.189115  0.133558 -0.021053   \n",
       "1 -0.638672  0.101288 -0.339846  0.167170  0.125895 -0.008983  0.014724   \n",
       "2  0.771679  0.909412 -0.689281 -0.327642 -0.139097 -0.055353 -0.059752   \n",
       "3  0.005274 -0.190321 -1.175575  0.647376 -0.221929  0.062723  0.061458   \n",
       "4  0.798278 -0.137458  0.141267 -0.206010  0.502292  0.219422  0.215153   \n",
       "\n",
       "   Amount  Class  \n",
       "0  149.62      0  \n",
       "1    2.69      0  \n",
       "2  378.66      0  \n",
       "3  123.50      0  \n",
       "4   69.99      0  "
      ]
     },
     "execution_count": 50,
     "metadata": {},
     "output_type": "execute_result"
    }
   ],
   "source": [
    "pd.options.display.max_columns = 999\n",
    "fraud_data.head()"
   ]
  },
  {
   "cell_type": "code",
   "execution_count": 51,
   "metadata": {},
   "outputs": [
    {
     "data": {
      "text/plain": [
       "Index(['Time', 'V1', 'V2', 'V3', 'V4', 'V5', 'V6', 'V7', 'V8', 'V9', 'V10',\n",
       "       'V11', 'V12', 'V13', 'V14', 'V15', 'V16', 'V17', 'V18', 'V19', 'V20',\n",
       "       'V21', 'V22', 'V23', 'V24', 'V25', 'V26', 'V27', 'V28', 'Amount',\n",
       "       'Class'],\n",
       "      dtype='object')"
      ]
     },
     "execution_count": 51,
     "metadata": {},
     "output_type": "execute_result"
    }
   ],
   "source": [
    "fraud_data.columns"
   ]
  },
  {
   "cell_type": "code",
   "execution_count": 52,
   "metadata": {},
   "outputs": [
    {
     "name": "stdout",
     "output_type": "stream",
     "text": [
      "<class 'pandas.core.frame.DataFrame'>\n",
      "RangeIndex: 284807 entries, 0 to 284806\n",
      "Data columns (total 31 columns):\n",
      "Time      284807 non-null float64\n",
      "V1        284807 non-null float64\n",
      "V2        284807 non-null float64\n",
      "V3        284807 non-null float64\n",
      "V4        284807 non-null float64\n",
      "V5        284807 non-null float64\n",
      "V6        284807 non-null float64\n",
      "V7        284807 non-null float64\n",
      "V8        284807 non-null float64\n",
      "V9        284807 non-null float64\n",
      "V10       284807 non-null float64\n",
      "V11       284807 non-null float64\n",
      "V12       284807 non-null float64\n",
      "V13       284807 non-null float64\n",
      "V14       284807 non-null float64\n",
      "V15       284807 non-null float64\n",
      "V16       284807 non-null float64\n",
      "V17       284807 non-null float64\n",
      "V18       284807 non-null float64\n",
      "V19       284807 non-null float64\n",
      "V20       284807 non-null float64\n",
      "V21       284807 non-null float64\n",
      "V22       284807 non-null float64\n",
      "V23       284807 non-null float64\n",
      "V24       284807 non-null float64\n",
      "V25       284807 non-null float64\n",
      "V26       284807 non-null float64\n",
      "V27       284807 non-null float64\n",
      "V28       284807 non-null float64\n",
      "Amount    284807 non-null float64\n",
      "Class     284807 non-null int64\n",
      "dtypes: float64(30), int64(1)\n",
      "memory usage: 67.4 MB\n"
     ]
    }
   ],
   "source": [
    "fraud_data.info()"
   ]
  },
  {
   "cell_type": "code",
   "execution_count": 53,
   "metadata": {},
   "outputs": [
    {
     "data": {
      "text/html": [
       "<div>\n",
       "<style scoped>\n",
       "    .dataframe tbody tr th:only-of-type {\n",
       "        vertical-align: middle;\n",
       "    }\n",
       "\n",
       "    .dataframe tbody tr th {\n",
       "        vertical-align: top;\n",
       "    }\n",
       "\n",
       "    .dataframe thead th {\n",
       "        text-align: right;\n",
       "    }\n",
       "</style>\n",
       "<table border=\"1\" class=\"dataframe\">\n",
       "  <thead>\n",
       "    <tr style=\"text-align: right;\">\n",
       "      <th></th>\n",
       "      <th>Time</th>\n",
       "      <th>V1</th>\n",
       "      <th>V2</th>\n",
       "      <th>V3</th>\n",
       "      <th>V4</th>\n",
       "      <th>V5</th>\n",
       "      <th>V6</th>\n",
       "      <th>V7</th>\n",
       "      <th>V8</th>\n",
       "      <th>V9</th>\n",
       "      <th>V10</th>\n",
       "      <th>V11</th>\n",
       "      <th>V12</th>\n",
       "      <th>V13</th>\n",
       "      <th>V14</th>\n",
       "      <th>V15</th>\n",
       "      <th>V16</th>\n",
       "      <th>V17</th>\n",
       "      <th>V18</th>\n",
       "      <th>V19</th>\n",
       "      <th>V20</th>\n",
       "      <th>V21</th>\n",
       "      <th>V22</th>\n",
       "      <th>V23</th>\n",
       "      <th>V24</th>\n",
       "      <th>V25</th>\n",
       "      <th>V26</th>\n",
       "      <th>V27</th>\n",
       "      <th>V28</th>\n",
       "      <th>Amount</th>\n",
       "      <th>Class</th>\n",
       "    </tr>\n",
       "  </thead>\n",
       "  <tbody>\n",
       "    <tr>\n",
       "      <th>count</th>\n",
       "      <td>284807.000000</td>\n",
       "      <td>2.848070e+05</td>\n",
       "      <td>2.848070e+05</td>\n",
       "      <td>2.848070e+05</td>\n",
       "      <td>2.848070e+05</td>\n",
       "      <td>2.848070e+05</td>\n",
       "      <td>2.848070e+05</td>\n",
       "      <td>2.848070e+05</td>\n",
       "      <td>2.848070e+05</td>\n",
       "      <td>2.848070e+05</td>\n",
       "      <td>2.848070e+05</td>\n",
       "      <td>2.848070e+05</td>\n",
       "      <td>2.848070e+05</td>\n",
       "      <td>2.848070e+05</td>\n",
       "      <td>2.848070e+05</td>\n",
       "      <td>2.848070e+05</td>\n",
       "      <td>2.848070e+05</td>\n",
       "      <td>2.848070e+05</td>\n",
       "      <td>2.848070e+05</td>\n",
       "      <td>2.848070e+05</td>\n",
       "      <td>2.848070e+05</td>\n",
       "      <td>2.848070e+05</td>\n",
       "      <td>2.848070e+05</td>\n",
       "      <td>2.848070e+05</td>\n",
       "      <td>2.848070e+05</td>\n",
       "      <td>2.848070e+05</td>\n",
       "      <td>2.848070e+05</td>\n",
       "      <td>2.848070e+05</td>\n",
       "      <td>2.848070e+05</td>\n",
       "      <td>284807.000000</td>\n",
       "      <td>284807.000000</td>\n",
       "    </tr>\n",
       "    <tr>\n",
       "      <th>mean</th>\n",
       "      <td>94813.859575</td>\n",
       "      <td>3.919560e-15</td>\n",
       "      <td>5.688174e-16</td>\n",
       "      <td>-8.769071e-15</td>\n",
       "      <td>2.782312e-15</td>\n",
       "      <td>-1.552563e-15</td>\n",
       "      <td>2.010663e-15</td>\n",
       "      <td>-1.694249e-15</td>\n",
       "      <td>-1.927028e-16</td>\n",
       "      <td>-3.137024e-15</td>\n",
       "      <td>1.768627e-15</td>\n",
       "      <td>9.170318e-16</td>\n",
       "      <td>-1.810658e-15</td>\n",
       "      <td>1.693438e-15</td>\n",
       "      <td>1.479045e-15</td>\n",
       "      <td>3.482336e-15</td>\n",
       "      <td>1.392007e-15</td>\n",
       "      <td>-7.528491e-16</td>\n",
       "      <td>4.328772e-16</td>\n",
       "      <td>9.049732e-16</td>\n",
       "      <td>5.085503e-16</td>\n",
       "      <td>1.537294e-16</td>\n",
       "      <td>7.959909e-16</td>\n",
       "      <td>5.367590e-16</td>\n",
       "      <td>4.458112e-15</td>\n",
       "      <td>1.453003e-15</td>\n",
       "      <td>1.699104e-15</td>\n",
       "      <td>-3.660161e-16</td>\n",
       "      <td>-1.206049e-16</td>\n",
       "      <td>88.349619</td>\n",
       "      <td>0.001727</td>\n",
       "    </tr>\n",
       "    <tr>\n",
       "      <th>std</th>\n",
       "      <td>47488.145955</td>\n",
       "      <td>1.958696e+00</td>\n",
       "      <td>1.651309e+00</td>\n",
       "      <td>1.516255e+00</td>\n",
       "      <td>1.415869e+00</td>\n",
       "      <td>1.380247e+00</td>\n",
       "      <td>1.332271e+00</td>\n",
       "      <td>1.237094e+00</td>\n",
       "      <td>1.194353e+00</td>\n",
       "      <td>1.098632e+00</td>\n",
       "      <td>1.088850e+00</td>\n",
       "      <td>1.020713e+00</td>\n",
       "      <td>9.992014e-01</td>\n",
       "      <td>9.952742e-01</td>\n",
       "      <td>9.585956e-01</td>\n",
       "      <td>9.153160e-01</td>\n",
       "      <td>8.762529e-01</td>\n",
       "      <td>8.493371e-01</td>\n",
       "      <td>8.381762e-01</td>\n",
       "      <td>8.140405e-01</td>\n",
       "      <td>7.709250e-01</td>\n",
       "      <td>7.345240e-01</td>\n",
       "      <td>7.257016e-01</td>\n",
       "      <td>6.244603e-01</td>\n",
       "      <td>6.056471e-01</td>\n",
       "      <td>5.212781e-01</td>\n",
       "      <td>4.822270e-01</td>\n",
       "      <td>4.036325e-01</td>\n",
       "      <td>3.300833e-01</td>\n",
       "      <td>250.120109</td>\n",
       "      <td>0.041527</td>\n",
       "    </tr>\n",
       "    <tr>\n",
       "      <th>min</th>\n",
       "      <td>0.000000</td>\n",
       "      <td>-5.640751e+01</td>\n",
       "      <td>-7.271573e+01</td>\n",
       "      <td>-4.832559e+01</td>\n",
       "      <td>-5.683171e+00</td>\n",
       "      <td>-1.137433e+02</td>\n",
       "      <td>-2.616051e+01</td>\n",
       "      <td>-4.355724e+01</td>\n",
       "      <td>-7.321672e+01</td>\n",
       "      <td>-1.343407e+01</td>\n",
       "      <td>-2.458826e+01</td>\n",
       "      <td>-4.797473e+00</td>\n",
       "      <td>-1.868371e+01</td>\n",
       "      <td>-5.791881e+00</td>\n",
       "      <td>-1.921433e+01</td>\n",
       "      <td>-4.498945e+00</td>\n",
       "      <td>-1.412985e+01</td>\n",
       "      <td>-2.516280e+01</td>\n",
       "      <td>-9.498746e+00</td>\n",
       "      <td>-7.213527e+00</td>\n",
       "      <td>-5.449772e+01</td>\n",
       "      <td>-3.483038e+01</td>\n",
       "      <td>-1.093314e+01</td>\n",
       "      <td>-4.480774e+01</td>\n",
       "      <td>-2.836627e+00</td>\n",
       "      <td>-1.029540e+01</td>\n",
       "      <td>-2.604551e+00</td>\n",
       "      <td>-2.256568e+01</td>\n",
       "      <td>-1.543008e+01</td>\n",
       "      <td>0.000000</td>\n",
       "      <td>0.000000</td>\n",
       "    </tr>\n",
       "    <tr>\n",
       "      <th>25%</th>\n",
       "      <td>54201.500000</td>\n",
       "      <td>-9.203734e-01</td>\n",
       "      <td>-5.985499e-01</td>\n",
       "      <td>-8.903648e-01</td>\n",
       "      <td>-8.486401e-01</td>\n",
       "      <td>-6.915971e-01</td>\n",
       "      <td>-7.682956e-01</td>\n",
       "      <td>-5.540759e-01</td>\n",
       "      <td>-2.086297e-01</td>\n",
       "      <td>-6.430976e-01</td>\n",
       "      <td>-5.354257e-01</td>\n",
       "      <td>-7.624942e-01</td>\n",
       "      <td>-4.055715e-01</td>\n",
       "      <td>-6.485393e-01</td>\n",
       "      <td>-4.255740e-01</td>\n",
       "      <td>-5.828843e-01</td>\n",
       "      <td>-4.680368e-01</td>\n",
       "      <td>-4.837483e-01</td>\n",
       "      <td>-4.988498e-01</td>\n",
       "      <td>-4.562989e-01</td>\n",
       "      <td>-2.117214e-01</td>\n",
       "      <td>-2.283949e-01</td>\n",
       "      <td>-5.423504e-01</td>\n",
       "      <td>-1.618463e-01</td>\n",
       "      <td>-3.545861e-01</td>\n",
       "      <td>-3.171451e-01</td>\n",
       "      <td>-3.269839e-01</td>\n",
       "      <td>-7.083953e-02</td>\n",
       "      <td>-5.295979e-02</td>\n",
       "      <td>5.600000</td>\n",
       "      <td>0.000000</td>\n",
       "    </tr>\n",
       "    <tr>\n",
       "      <th>50%</th>\n",
       "      <td>84692.000000</td>\n",
       "      <td>1.810880e-02</td>\n",
       "      <td>6.548556e-02</td>\n",
       "      <td>1.798463e-01</td>\n",
       "      <td>-1.984653e-02</td>\n",
       "      <td>-5.433583e-02</td>\n",
       "      <td>-2.741871e-01</td>\n",
       "      <td>4.010308e-02</td>\n",
       "      <td>2.235804e-02</td>\n",
       "      <td>-5.142873e-02</td>\n",
       "      <td>-9.291738e-02</td>\n",
       "      <td>-3.275735e-02</td>\n",
       "      <td>1.400326e-01</td>\n",
       "      <td>-1.356806e-02</td>\n",
       "      <td>5.060132e-02</td>\n",
       "      <td>4.807155e-02</td>\n",
       "      <td>6.641332e-02</td>\n",
       "      <td>-6.567575e-02</td>\n",
       "      <td>-3.636312e-03</td>\n",
       "      <td>3.734823e-03</td>\n",
       "      <td>-6.248109e-02</td>\n",
       "      <td>-2.945017e-02</td>\n",
       "      <td>6.781943e-03</td>\n",
       "      <td>-1.119293e-02</td>\n",
       "      <td>4.097606e-02</td>\n",
       "      <td>1.659350e-02</td>\n",
       "      <td>-5.213911e-02</td>\n",
       "      <td>1.342146e-03</td>\n",
       "      <td>1.124383e-02</td>\n",
       "      <td>22.000000</td>\n",
       "      <td>0.000000</td>\n",
       "    </tr>\n",
       "    <tr>\n",
       "      <th>75%</th>\n",
       "      <td>139320.500000</td>\n",
       "      <td>1.315642e+00</td>\n",
       "      <td>8.037239e-01</td>\n",
       "      <td>1.027196e+00</td>\n",
       "      <td>7.433413e-01</td>\n",
       "      <td>6.119264e-01</td>\n",
       "      <td>3.985649e-01</td>\n",
       "      <td>5.704361e-01</td>\n",
       "      <td>3.273459e-01</td>\n",
       "      <td>5.971390e-01</td>\n",
       "      <td>4.539234e-01</td>\n",
       "      <td>7.395934e-01</td>\n",
       "      <td>6.182380e-01</td>\n",
       "      <td>6.625050e-01</td>\n",
       "      <td>4.931498e-01</td>\n",
       "      <td>6.488208e-01</td>\n",
       "      <td>5.232963e-01</td>\n",
       "      <td>3.996750e-01</td>\n",
       "      <td>5.008067e-01</td>\n",
       "      <td>4.589494e-01</td>\n",
       "      <td>1.330408e-01</td>\n",
       "      <td>1.863772e-01</td>\n",
       "      <td>5.285536e-01</td>\n",
       "      <td>1.476421e-01</td>\n",
       "      <td>4.395266e-01</td>\n",
       "      <td>3.507156e-01</td>\n",
       "      <td>2.409522e-01</td>\n",
       "      <td>9.104512e-02</td>\n",
       "      <td>7.827995e-02</td>\n",
       "      <td>77.165000</td>\n",
       "      <td>0.000000</td>\n",
       "    </tr>\n",
       "    <tr>\n",
       "      <th>max</th>\n",
       "      <td>172792.000000</td>\n",
       "      <td>2.454930e+00</td>\n",
       "      <td>2.205773e+01</td>\n",
       "      <td>9.382558e+00</td>\n",
       "      <td>1.687534e+01</td>\n",
       "      <td>3.480167e+01</td>\n",
       "      <td>7.330163e+01</td>\n",
       "      <td>1.205895e+02</td>\n",
       "      <td>2.000721e+01</td>\n",
       "      <td>1.559499e+01</td>\n",
       "      <td>2.374514e+01</td>\n",
       "      <td>1.201891e+01</td>\n",
       "      <td>7.848392e+00</td>\n",
       "      <td>7.126883e+00</td>\n",
       "      <td>1.052677e+01</td>\n",
       "      <td>8.877742e+00</td>\n",
       "      <td>1.731511e+01</td>\n",
       "      <td>9.253526e+00</td>\n",
       "      <td>5.041069e+00</td>\n",
       "      <td>5.591971e+00</td>\n",
       "      <td>3.942090e+01</td>\n",
       "      <td>2.720284e+01</td>\n",
       "      <td>1.050309e+01</td>\n",
       "      <td>2.252841e+01</td>\n",
       "      <td>4.584549e+00</td>\n",
       "      <td>7.519589e+00</td>\n",
       "      <td>3.517346e+00</td>\n",
       "      <td>3.161220e+01</td>\n",
       "      <td>3.384781e+01</td>\n",
       "      <td>25691.160000</td>\n",
       "      <td>1.000000</td>\n",
       "    </tr>\n",
       "  </tbody>\n",
       "</table>\n",
       "</div>"
      ],
      "text/plain": [
       "                Time            V1            V2            V3            V4  \\\n",
       "count  284807.000000  2.848070e+05  2.848070e+05  2.848070e+05  2.848070e+05   \n",
       "mean    94813.859575  3.919560e-15  5.688174e-16 -8.769071e-15  2.782312e-15   \n",
       "std     47488.145955  1.958696e+00  1.651309e+00  1.516255e+00  1.415869e+00   \n",
       "min         0.000000 -5.640751e+01 -7.271573e+01 -4.832559e+01 -5.683171e+00   \n",
       "25%     54201.500000 -9.203734e-01 -5.985499e-01 -8.903648e-01 -8.486401e-01   \n",
       "50%     84692.000000  1.810880e-02  6.548556e-02  1.798463e-01 -1.984653e-02   \n",
       "75%    139320.500000  1.315642e+00  8.037239e-01  1.027196e+00  7.433413e-01   \n",
       "max    172792.000000  2.454930e+00  2.205773e+01  9.382558e+00  1.687534e+01   \n",
       "\n",
       "                 V5            V6            V7            V8            V9  \\\n",
       "count  2.848070e+05  2.848070e+05  2.848070e+05  2.848070e+05  2.848070e+05   \n",
       "mean  -1.552563e-15  2.010663e-15 -1.694249e-15 -1.927028e-16 -3.137024e-15   \n",
       "std    1.380247e+00  1.332271e+00  1.237094e+00  1.194353e+00  1.098632e+00   \n",
       "min   -1.137433e+02 -2.616051e+01 -4.355724e+01 -7.321672e+01 -1.343407e+01   \n",
       "25%   -6.915971e-01 -7.682956e-01 -5.540759e-01 -2.086297e-01 -6.430976e-01   \n",
       "50%   -5.433583e-02 -2.741871e-01  4.010308e-02  2.235804e-02 -5.142873e-02   \n",
       "75%    6.119264e-01  3.985649e-01  5.704361e-01  3.273459e-01  5.971390e-01   \n",
       "max    3.480167e+01  7.330163e+01  1.205895e+02  2.000721e+01  1.559499e+01   \n",
       "\n",
       "                V10           V11           V12           V13           V14  \\\n",
       "count  2.848070e+05  2.848070e+05  2.848070e+05  2.848070e+05  2.848070e+05   \n",
       "mean   1.768627e-15  9.170318e-16 -1.810658e-15  1.693438e-15  1.479045e-15   \n",
       "std    1.088850e+00  1.020713e+00  9.992014e-01  9.952742e-01  9.585956e-01   \n",
       "min   -2.458826e+01 -4.797473e+00 -1.868371e+01 -5.791881e+00 -1.921433e+01   \n",
       "25%   -5.354257e-01 -7.624942e-01 -4.055715e-01 -6.485393e-01 -4.255740e-01   \n",
       "50%   -9.291738e-02 -3.275735e-02  1.400326e-01 -1.356806e-02  5.060132e-02   \n",
       "75%    4.539234e-01  7.395934e-01  6.182380e-01  6.625050e-01  4.931498e-01   \n",
       "max    2.374514e+01  1.201891e+01  7.848392e+00  7.126883e+00  1.052677e+01   \n",
       "\n",
       "                V15           V16           V17           V18           V19  \\\n",
       "count  2.848070e+05  2.848070e+05  2.848070e+05  2.848070e+05  2.848070e+05   \n",
       "mean   3.482336e-15  1.392007e-15 -7.528491e-16  4.328772e-16  9.049732e-16   \n",
       "std    9.153160e-01  8.762529e-01  8.493371e-01  8.381762e-01  8.140405e-01   \n",
       "min   -4.498945e+00 -1.412985e+01 -2.516280e+01 -9.498746e+00 -7.213527e+00   \n",
       "25%   -5.828843e-01 -4.680368e-01 -4.837483e-01 -4.988498e-01 -4.562989e-01   \n",
       "50%    4.807155e-02  6.641332e-02 -6.567575e-02 -3.636312e-03  3.734823e-03   \n",
       "75%    6.488208e-01  5.232963e-01  3.996750e-01  5.008067e-01  4.589494e-01   \n",
       "max    8.877742e+00  1.731511e+01  9.253526e+00  5.041069e+00  5.591971e+00   \n",
       "\n",
       "                V20           V21           V22           V23           V24  \\\n",
       "count  2.848070e+05  2.848070e+05  2.848070e+05  2.848070e+05  2.848070e+05   \n",
       "mean   5.085503e-16  1.537294e-16  7.959909e-16  5.367590e-16  4.458112e-15   \n",
       "std    7.709250e-01  7.345240e-01  7.257016e-01  6.244603e-01  6.056471e-01   \n",
       "min   -5.449772e+01 -3.483038e+01 -1.093314e+01 -4.480774e+01 -2.836627e+00   \n",
       "25%   -2.117214e-01 -2.283949e-01 -5.423504e-01 -1.618463e-01 -3.545861e-01   \n",
       "50%   -6.248109e-02 -2.945017e-02  6.781943e-03 -1.119293e-02  4.097606e-02   \n",
       "75%    1.330408e-01  1.863772e-01  5.285536e-01  1.476421e-01  4.395266e-01   \n",
       "max    3.942090e+01  2.720284e+01  1.050309e+01  2.252841e+01  4.584549e+00   \n",
       "\n",
       "                V25           V26           V27           V28         Amount  \\\n",
       "count  2.848070e+05  2.848070e+05  2.848070e+05  2.848070e+05  284807.000000   \n",
       "mean   1.453003e-15  1.699104e-15 -3.660161e-16 -1.206049e-16      88.349619   \n",
       "std    5.212781e-01  4.822270e-01  4.036325e-01  3.300833e-01     250.120109   \n",
       "min   -1.029540e+01 -2.604551e+00 -2.256568e+01 -1.543008e+01       0.000000   \n",
       "25%   -3.171451e-01 -3.269839e-01 -7.083953e-02 -5.295979e-02       5.600000   \n",
       "50%    1.659350e-02 -5.213911e-02  1.342146e-03  1.124383e-02      22.000000   \n",
       "75%    3.507156e-01  2.409522e-01  9.104512e-02  7.827995e-02      77.165000   \n",
       "max    7.519589e+00  3.517346e+00  3.161220e+01  3.384781e+01   25691.160000   \n",
       "\n",
       "               Class  \n",
       "count  284807.000000  \n",
       "mean        0.001727  \n",
       "std         0.041527  \n",
       "min         0.000000  \n",
       "25%         0.000000  \n",
       "50%         0.000000  \n",
       "75%         0.000000  \n",
       "max         1.000000  "
      ]
     },
     "execution_count": 53,
     "metadata": {},
     "output_type": "execute_result"
    }
   ],
   "source": [
    "fraud_data.describe()"
   ]
  },
  {
   "cell_type": "code",
   "execution_count": 54,
   "metadata": {},
   "outputs": [
    {
     "data": {
      "text/plain": [
       "Time      False\n",
       "V1        False\n",
       "V2        False\n",
       "V3        False\n",
       "V4        False\n",
       "V5        False\n",
       "V6        False\n",
       "V7        False\n",
       "V8        False\n",
       "V9        False\n",
       "V10       False\n",
       "V11       False\n",
       "V12       False\n",
       "V13       False\n",
       "V14       False\n",
       "V15       False\n",
       "V16       False\n",
       "V17       False\n",
       "V18       False\n",
       "V19       False\n",
       "V20       False\n",
       "V21       False\n",
       "V22       False\n",
       "V23       False\n",
       "V24       False\n",
       "V25       False\n",
       "V26       False\n",
       "V27       False\n",
       "V28       False\n",
       "Amount    False\n",
       "Class     False\n",
       "dtype: bool"
      ]
     },
     "execution_count": 54,
     "metadata": {},
     "output_type": "execute_result"
    }
   ],
   "source": [
    "# Determine if ANY Value in a Series is Missing\n",
    "fraud_data.isna().any()"
   ]
  },
  {
   "cell_type": "markdown",
   "metadata": {},
   "source": [
    "## Checking the target classes\n"
   ]
  },
  {
   "cell_type": "code",
   "execution_count": 55,
   "metadata": {},
   "outputs": [
    {
     "data": {
      "image/png": "[encoded data removed]",
      "text/plain": [
       "<Figure size 432x288 with 1 Axes>"
      ]
     },
     "metadata": {},
     "output_type": "display_data"
    }
   ],
   "source": [
    "sns.countplot(fraud_data[\"Class\"] , label=\"count\")\n",
    "plt.title(\"Fraud class histogram\")\n",
    "plt.xlabel(\"Class\")\n",
    "plt.ylabel(\"Frequency\");"
   ]
  },
  {
   "cell_type": "code",
   "execution_count": 56,
   "metadata": {},
   "outputs": [
    {
     "data": {
      "text/plain": [
       "0    284315\n",
       "1       492\n",
       "Name: Class, dtype: int64"
      ]
     },
     "execution_count": 56,
     "metadata": {},
     "output_type": "execute_result"
    }
   ],
   "source": [
    "fraud_data.Class.value_counts()"
   ]
  },
  {
   "cell_type": "markdown",
   "metadata": {},
   "source": [
    "#### Clearly the data is totally unbalanced ! \n"
   ]
  },
  {
   "cell_type": "code",
   "execution_count": 57,
   "metadata": {},
   "outputs": [
    {
     "data": {
      "text/html": [
       "<iframe width=\"840\" height=\"460\" src=\"https://www.youtube.com/embed/FunoDTsdr2E?rel=0&amp;controls=0&amp;showinfo=0\" frameborder=\"0\" allowfullscreen></iframe>"
      ],
      "text/plain": [
       "<IPython.core.display.HTML object>"
      ]
     },
     "execution_count": 57,
     "metadata": {},
     "output_type": "execute_result"
    }
   ],
   "source": [
    "from IPython.display import HTML\n",
    "\n",
    "# Youtube\n",
    "HTML('<iframe width=\"840\" height=\"460\" src=\"https://www.youtube.com/embed/FunoDTsdr2E?rel=0&amp;controls=0&amp;showinfo=0\" frameborder=\"0\" allowfullscreen></iframe>')"
   ]
  },
  {
   "cell_type": "markdown",
   "metadata": {},
   "source": [
    "## Graph distribution"
   ]
  },
  {
   "cell_type": "code",
   "execution_count": 58,
   "metadata": {},
   "outputs": [
    {
     "data": {
      "image/png": "[encoded data removed]",
      "text/plain": [
       "<Figure size 1440x1080 with 36 Axes>"
      ]
     },
     "metadata": {},
     "output_type": "display_data"
    }
   ],
   "source": [
    "fraud_data.hist(bins=50, figsize=(20,15), color = 'deepskyblue')\n",
    "\n",
    "plt.show()"
   ]
  },
  {
   "cell_type": "markdown",
   "metadata": {},
   "source": [
    " ## Time vs Class"
   ]
  },
  {
   "cell_type": "code",
   "execution_count": 59,
   "metadata": {},
   "outputs": [
    {
     "data": {
      "image/png": "[encoded data removed]",
      "text/plain": [
       "<Figure size 1080x576 with 2 Axes>"
      ]
     },
     "metadata": {},
     "output_type": "display_data"
    }
   ],
   "source": [
    "f, (ax1, ax2) = plt.subplots(2, 1, sharex=True, figsize=(15,8))\n",
    "bins = 50\n",
    "\n",
    "ax1.hist(fraud_data.Time[fraud_data.Class == 1], bins = bins, color = \"deeppink\")\n",
    "ax1.set_xlabel((\"Time (in Seconds)\"))\n",
    "ax1.set_ylabel(\"Number of Transactions\")\n",
    "ax1.set_title(\"Fraud\")\n",
    "ax2.hist(fraud_data.Time[fraud_data.Class == 0], bins= bins, color = \"deepskyblue\");\n",
    "ax2.set_xlabel((\"Time (in Seconds)\"))\n",
    "ax2.set_ylabel(\"Number of Transactions\")\n",
    "ax2.set_title(\"Normal\");"
   ]
  },
  {
   "cell_type": "markdown",
   "metadata": {},
   "source": [
    "## Time vs Amount vs Class"
   ]
  },
  {
   "cell_type": "code",
   "execution_count": 60,
   "metadata": {},
   "outputs": [
    {
     "data": {
      "image/png": "[encoded data removed]",
      "text/plain": [
       "<Figure size 1080x576 with 2 Axes>"
      ]
     },
     "metadata": {},
     "output_type": "display_data"
    }
   ],
   "source": [
    "f, (ax1, ax2) = plt.subplots(2, 1, sharex=True, figsize=(15,8))\n",
    "bins = 50\n",
    "\n",
    "ax1.scatter(fraud_data.Time[fraud_data.Class == 1], fraud_data.Amount[fraud_data.Class ==1], color = \"deeppink\")\n",
    "ax1.set_xlabel((\"Time (in Seconds)\"))\n",
    "ax1.set_ylabel(\"Amount\")\n",
    "ax1.set_title(\"Fraud\")\n",
    "ax2.scatter(fraud_data.Time[fraud_data.Class == 0], fraud_data.Amount[fraud_data.Class ==0], color = \"deepskyblue\");\n",
    "ax2.set_xlabel((\"Time (in Seconds)\"))\n",
    "ax2.set_ylabel(\"Amount\")\n",
    "ax2.set_title(\"Normal\");"
   ]
  },
  {
   "cell_type": "code",
   "execution_count": 61,
   "metadata": {},
   "outputs": [],
   "source": [
    "## Correlation with Response Variable \n",
    "fraud_data2 = fraud_data.drop(columns = [\"Class\", \"Time\"])"
   ]
  },
  {
   "cell_type": "code",
   "execution_count": 62,
   "metadata": {},
   "outputs": [
    {
     "data": {
      "image/png": "[encoded data removed]",
      "text/plain": [
       "<Figure size 1440x720 with 1 Axes>"
      ]
     },
     "metadata": {},
     "output_type": "display_data"
    }
   ],
   "source": [
    "fraud_data2.corrwith(fraud_data.Class).plot.bar(figsize=(20,10),\n",
    "              title = \"Correlation with Class\",\n",
    "              fontsize = 15, rot = 45,\n",
    "              grid = True);"
   ]
  },
  {
   "cell_type": "code",
   "execution_count": 63,
   "metadata": {},
   "outputs": [
    {
     "data": {
      "image/png": "[encoded data removed]",
      "text/plain": [
       "<Figure size 1080x576 with 4 Axes>"
      ]
     },
     "metadata": {},
     "output_type": "display_data"
    }
   ],
   "source": [
    "# Set up the matplotlib figure\n",
    "f, (ax1, ax2) = plt.subplots(1, 2, figsize = (15, 8))\n",
    "\n",
    "# Generate a custom diverging colormap\n",
    "cmap = sns.diverging_palette(220, 10, as_cmap=True)\n",
    "\n",
    "# Draw the heatmaps\n",
    "sns.heatmap(fraud_data2[fraud_data.Class == 1].corr(), cmap=cmap, vmax = .8, square=True, ax = ax1)\n",
    "ax1.set_title('Fraud')\n",
    "\n",
    "sns.heatmap(fraud_data2[fraud_data.Class == 0].corr(), cmap=cmap, vmax = .8, square=True, ax = ax2);\n",
    "ax2.set_title('Normal');"
   ]
  },
  {
   "cell_type": "markdown",
   "metadata": {},
   "source": [
    "## Splitting the dataset into the Training set and Test set"
   ]
  },
  {
   "cell_type": "code",
   "execution_count": 64,
   "metadata": {},
   "outputs": [],
   "source": [
    "X = fraud_data.drop(columns=[\"Class\"])\n",
    "y = fraud_data[\"Class\"]"
   ]
  },
  {
   "cell_type": "code",
   "execution_count": 65,
   "metadata": {},
   "outputs": [],
   "source": [
    "from sklearn.model_selection import train_test_split"
   ]
  },
  {
   "cell_type": "code",
   "execution_count": 66,
   "metadata": {},
   "outputs": [],
   "source": [
    "X_train, X_test, y_train, y_test = train_test_split(X, y, test_size=0.3, random_state=0)"
   ]
  },
  {
   "cell_type": "code",
   "execution_count": 67,
   "metadata": {},
   "outputs": [
    {
     "data": {
      "text/plain": [
       "((199364, 30), (199364,))"
      ]
     },
     "execution_count": 67,
     "metadata": {},
     "output_type": "execute_result"
    }
   ],
   "source": [
    "X_train.shape, y_train.shape"
   ]
  },
  {
   "cell_type": "code",
   "execution_count": 68,
   "metadata": {},
   "outputs": [
    {
     "data": {
      "text/plain": [
       "((85443, 30), (85443,))"
      ]
     },
     "execution_count": 68,
     "metadata": {},
     "output_type": "execute_result"
    }
   ],
   "source": [
    "X_test.shape, y_test.shape"
   ]
  },
  {
   "cell_type": "code",
   "execution_count": 69,
   "metadata": {},
   "outputs": [
    {
     "name": "stdout",
     "output_type": "stream",
     "text": [
      "Proportion of Normal data in training data is: 0.9982694970004614\n",
      "Proportion of Fraud data in training data is: 0.0017305029995385325\n"
     ]
    }
   ],
   "source": [
    "print(\"Proportion of Normal data in training data is:\",len(y_train[y_train==0])/len(X_train))\n",
    "print(\"Proportion of Fraud data in training data is:\",len(y_train[y_train==1])/len(X_train))"
   ]
  },
  {
   "cell_type": "markdown",
   "metadata": {},
   "source": [
    "## Model Building"
   ]
  },
  {
   "cell_type": "markdown",
   "metadata": {},
   "source": [
    "## Use Random Forest Algorithm"
   ]
  },
  {
   "cell_type": "markdown",
   "metadata": {},
   "source": [
    "#### A brief about Random Forest Algorithm\n",
    "Random forest classifier creates a set of decision trees from randomly selected subset of training set. It then aggregates the votes from different decision trees to decide the final class of the test object.  Random forests or random decision forests are an ensemble learning method for classification, regression and other tasks, that operate by constructing a multitude of decision trees at training time and outputting the class that is the mode of the classes (classification) or mean prediction (regression) of the individual trees. Random decision forests will avoid overfitting which will enhance the accuracy of the model on new data. This is a Bagging based algorithm which is used for reducing Overfitting in order to create strong learners for generating accurate predictions."
   ]
  },
  {
   "cell_type": "code",
   "execution_count": 23,
   "metadata": {},
   "outputs": [],
   "source": [
    "from sklearn.ensemble import RandomForestClassifier"
   ]
  },
  {
   "cell_type": "code",
   "execution_count": 24,
   "metadata": {},
   "outputs": [],
   "source": [
    "rf = RandomForestClassifier(n_estimators=100, class_weight=\"balanced\")"
   ]
  },
  {
   "cell_type": "code",
   "execution_count": 25,
   "metadata": {},
   "outputs": [
    {
     "data": {
      "text/plain": [
       "RandomForestClassifier(bootstrap=True, class_weight='balanced',\n",
       "            criterion='gini', max_depth=None, max_features='auto',\n",
       "            max_leaf_nodes=None, min_impurity_decrease=0.0,\n",
       "            min_impurity_split=None, min_samples_leaf=1,\n",
       "            min_samples_split=2, min_weight_fraction_leaf=0.0,\n",
       "            n_estimators=100, n_jobs=None, oob_score=False,\n",
       "            random_state=None, verbose=0, warm_start=False)"
      ]
     },
     "execution_count": 25,
     "metadata": {},
     "output_type": "execute_result"
    }
   ],
   "source": [
    "rf.fit(X_train, y_train)"
   ]
  },
  {
   "cell_type": "code",
   "execution_count": 26,
   "metadata": {},
   "outputs": [],
   "source": [
    "y_predrf = rf.predict(X_test)"
   ]
  },
  {
   "cell_type": "code",
   "execution_count": 27,
   "metadata": {},
   "outputs": [],
   "source": [
    "y_predrf_proba = rf.predict_proba(X_test)"
   ]
  },
  {
   "cell_type": "code",
   "execution_count": 28,
   "metadata": {},
   "outputs": [],
   "source": [
    "from sklearn.metrics import accuracy_score, auc, classification_report, confusion_matrix, f1_score, precision_score, precision_recall_curve, recall_score, roc_auc_score"
   ]
  },
  {
   "cell_type": "code",
   "execution_count": 70,
   "metadata": {},
   "outputs": [],
   "source": [
    "def pr_auc_score(y_true, y_score):\n",
    "    \"\"\"\n",
    "    Generates the Area Under the Curve for precision and recall.\n",
    "    \"\"\"\n",
    "    precision, recall, thresholds = precision_recall_curve(y_true, y_score[:, 1])\n",
    "    area = auc(recall, precision)\n",
    "    return area"
   ]
  },
  {
   "cell_type": "code",
   "execution_count": 63,
   "metadata": {},
   "outputs": [
    {
     "name": "stdout",
     "output_type": "stream",
     "text": [
      "Confusion matrix :\n",
      "[[85290     6]\n",
      " [   35   112]]\n",
      "Classification report :\n",
      "              precision    recall  f1-score   support\n",
      "\n",
      "           0       1.00      1.00      1.00     85296\n",
      "           1       0.95      0.76      0.85       147\n",
      "\n",
      "   micro avg       1.00      1.00      1.00     85443\n",
      "   macro avg       0.97      0.88      0.92     85443\n",
      "weighted avg       1.00      1.00      1.00     85443\n",
      "\n",
      "Accuracy : 0.9995201479348805\n",
      "Area under the curve : 0.8809172093147896\n",
      "Area Under the Precision-Recall Curve (AUPRC): 0.8436668074569775\n"
     ]
    }
   ],
   "source": [
    "print(\"Confusion matrix :\")\n",
    "print(confusion_matrix(y_test, y_predrf))\n",
    "print(\"Classification report :\")\n",
    "print(classification_report(y_test, y_predrf))\n",
    "print(\"Accuracy :\",(accuracy_score(y_test, y_predrf)))\n",
    "print(\"Area under the curve :\", (roc_auc_score(y_test, y_predrf)))\n",
    "print(\"Area Under the Precision-Recall Curve (AUPRC):\", pr_auc_score(y_test, y_predrf_proba))"
   ]
  },
  {
   "cell_type": "code",
   "execution_count": 64,
   "metadata": {},
   "outputs": [],
   "source": [
    "acc = accuracy_score(y_test, y_predrf)\n",
    "prec = precision_score(y_test, y_predrf)\n",
    "rec = recall_score(y_test, y_predrf)\n",
    "f1 = f1_score(y_test, y_predrf)\n",
    "auprc = pr_auc_score(y_test, y_predrf_proba)"
   ]
  },
  {
   "cell_type": "code",
   "execution_count": 65,
   "metadata": {},
   "outputs": [],
   "source": [
    "results = pd.DataFrame([[\"Random Forest\", acc, prec, rec, f1, auprc]],\n",
    "               columns = [\"Model\", \"Accuracy\", \"Precision\", \"Recall\", \"F1 Score\", \"Area Under the Precision-Recall Curve\"])"
   ]
  },
  {
   "cell_type": "code",
   "execution_count": 66,
   "metadata": {},
   "outputs": [
    {
     "data": {
      "text/html": [
       "<div>\n",
       "<style scoped>\n",
       "    .dataframe tbody tr th:only-of-type {\n",
       "        vertical-align: middle;\n",
       "    }\n",
       "\n",
       "    .dataframe tbody tr th {\n",
       "        vertical-align: top;\n",
       "    }\n",
       "\n",
       "    .dataframe thead th {\n",
       "        text-align: right;\n",
       "    }\n",
       "</style>\n",
       "<table border=\"1\" class=\"dataframe\">\n",
       "  <thead>\n",
       "    <tr style=\"text-align: right;\">\n",
       "      <th></th>\n",
       "      <th>Model</th>\n",
       "      <th>Accuracy</th>\n",
       "      <th>Precision</th>\n",
       "      <th>Recall</th>\n",
       "      <th>F1 Score</th>\n",
       "      <th>Area Under the Precision-Recall Curve</th>\n",
       "    </tr>\n",
       "  </thead>\n",
       "  <tbody>\n",
       "    <tr>\n",
       "      <th>0</th>\n",
       "      <td>Random Forest</td>\n",
       "      <td>0.99952</td>\n",
       "      <td>0.949153</td>\n",
       "      <td>0.761905</td>\n",
       "      <td>0.845283</td>\n",
       "      <td>0.843667</td>\n",
       "    </tr>\n",
       "  </tbody>\n",
       "</table>\n",
       "</div>"
      ],
      "text/plain": [
       "           Model  Accuracy  Precision    Recall  F1 Score  \\\n",
       "0  Random Forest   0.99952   0.949153  0.761905  0.845283   \n",
       "\n",
       "   Area Under the Precision-Recall Curve  \n",
       "0                               0.843667  "
      ]
     },
     "execution_count": 66,
     "metadata": {},
     "output_type": "execute_result"
    }
   ],
   "source": [
    "results"
   ]
  },
  {
   "cell_type": "markdown",
   "metadata": {},
   "source": [
    "## Use Gradient Boosting Alogrithm"
   ]
  },
  {
   "cell_type": "markdown",
   "metadata": {},
   "source": [
    "#### A Brief about Gradient Boosting Algorithm\n",
    "Gradient boosting is a machine learning technique for regression and classification problems, which produces a prediction model in the form of an ensemble of weak prediction models, typically decision trees. It builds the model in a stage-wise fashion like other boosting methods do, and it generalizes them by allowing optimization of an arbitrary differentiable loss function(a loss function or cost function is a function that maps an event or values of one or more variables onto a real number intuitively representing some \"cost\" associated with the event). This is a Boosting based algorithm which is an ensemble technique to combine weak learners to create a strong learner that can make accurate predictions. "
   ]
  },
  {
   "cell_type": "code",
   "execution_count": 67,
   "metadata": {},
   "outputs": [],
   "source": [
    "from sklearn.ensemble import GradientBoostingClassifier"
   ]
  },
  {
   "cell_type": "code",
   "execution_count": 68,
   "metadata": {},
   "outputs": [],
   "source": [
    "'''params = {'n_estimators': 500, 'max_depth': 3, 'subsample': 0.5, 'learning_rate': 0.01, 'min_samples_leaf': 1, 'random_state': 3}\n",
    "clf = ensemble. GradientBoostingClassifier(**params)\n",
    "n_estimators : int (default=100)\n",
    "The number of boosting stages to perform. Gradient boosting is fairly robust to over-fitting, so a large number usually results in better performance.\n",
    "max_depth: integer, optional (default=3)\n",
    "maximum depth of the individual regression estimators. The maximum depth limits the number of nodes in the tree. The best value depends on the interaction of the input variables.\n",
    "subsample: float, optional (default=1.0)\n",
    "The fraction of samples to be used for fitting the individual base learners. If smaller than 1.0 this results in Stochastic Gradient Boosting. subsample interacts with the parameter n_estimators. Choosing subsample < 1.0 leads to a reduction of variance and an increase in bias.\n",
    "random_state : int, RandomState instance or None, optional (default=None)\n",
    "If int, random_state is the seed used by the random number generator; If RandomState instance, random_state is the random number generator; If None, the random number generator is the RandomState instance used by np.random.\n",
    "learning_rate : float, optional (default=0.1)\n",
    "learning rate shrinks the contribution of each tree by learning_rate. There is a trade-off between learning_rate and n_estimators.\n",
    "min_samples_leaf : int, float, optional (default=1)\n",
    "The minimum number of samples required to be at a leaf node:\n",
    "'''\n",
    "\n",
    "gb = GradientBoostingClassifier(n_estimators=500, max_depth=3, subsample=0.5, \n",
    "                                learning_rate=0.01, min_samples_leaf=1, random_state=3)"
   ]
  },
  {
   "cell_type": "code",
   "execution_count": 69,
   "metadata": {},
   "outputs": [
    {
     "data": {
      "text/plain": [
       "GradientBoostingClassifier(criterion='friedman_mse', init=None,\n",
       "              learning_rate=0.01, loss='deviance', max_depth=3,\n",
       "              max_features=None, max_leaf_nodes=None,\n",
       "              min_impurity_decrease=0.0, min_impurity_split=None,\n",
       "              min_samples_leaf=1, min_samples_split=2,\n",
       "              min_weight_fraction_leaf=0.0, n_estimators=500,\n",
       "              n_iter_no_change=None, presort='auto', random_state=3,\n",
       "              subsample=0.5, tol=0.0001, validation_fraction=0.1,\n",
       "              verbose=0, warm_start=False)"
      ]
     },
     "execution_count": 69,
     "metadata": {},
     "output_type": "execute_result"
    }
   ],
   "source": [
    "gb.fit(X_train, y_train)"
   ]
  },
  {
   "cell_type": "code",
   "execution_count": 70,
   "metadata": {},
   "outputs": [],
   "source": [
    "y_predgb = gb.predict(X_test)"
   ]
  },
  {
   "cell_type": "code",
   "execution_count": 71,
   "metadata": {},
   "outputs": [],
   "source": [
    "y_predgb_proba = gb.predict_proba(X_test)"
   ]
  },
  {
   "cell_type": "code",
   "execution_count": 72,
   "metadata": {},
   "outputs": [
    {
     "name": "stdout",
     "output_type": "stream",
     "text": [
      "Confusion matrix :\n",
      "[[85280    16]\n",
      " [   39   108]]\n",
      "Classification report :\n",
      "              precision    recall  f1-score   support\n",
      "\n",
      "           0       1.00      1.00      1.00     85296\n",
      "           1       0.87      0.73      0.80       147\n",
      "\n",
      "   micro avg       1.00      1.00      1.00     85443\n",
      "   macro avg       0.94      0.87      0.90     85443\n",
      "weighted avg       1.00      1.00      1.00     85443\n",
      "\n",
      "Accuracy : 0.9993562960102056\n",
      "Area under the curve : 0.867253147741933\n",
      "Area Under the Precision-Recall Curve (AUPRC): 0.7089683711909455\n"
     ]
    }
   ],
   "source": [
    "print(\"Confusion matrix :\")\n",
    "print(confusion_matrix(y_test, y_predgb))\n",
    "print(\"Classification report :\")\n",
    "print(classification_report(y_test, y_predgb))\n",
    "print(\"Accuracy :\",(accuracy_score(y_test, y_predgb)))\n",
    "print(\"Area under the curve :\", (roc_auc_score(y_test, y_predgb)))\n",
    "print(\"Area Under the Precision-Recall Curve (AUPRC):\", pr_auc_score(y_test, y_predgb_proba))"
   ]
  },
  {
   "cell_type": "code",
   "execution_count": 73,
   "metadata": {},
   "outputs": [],
   "source": [
    "acc = accuracy_score(y_test, y_predgb)\n",
    "prec = precision_score(y_test, y_predgb)\n",
    "rec = recall_score(y_test, y_predgb)\n",
    "f1 = f1_score(y_test, y_predgb)\n",
    "auprc = pr_auc_score(y_test, y_predgb_proba)"
   ]
  },
  {
   "cell_type": "code",
   "execution_count": 74,
   "metadata": {},
   "outputs": [],
   "source": [
    "model_results = pd.DataFrame([[\"Gradient Boosting\", acc, prec, rec, f1, auprc]],\n",
    "               columns = [\"Model\", \"Accuracy\", \"Precision\", \"Recall\", \"F1 Score\", \"Area Under the Precision-Recall Curve\"])"
   ]
  },
  {
   "cell_type": "code",
   "execution_count": 75,
   "metadata": {},
   "outputs": [],
   "source": [
    "results = results.append(model_results, ignore_index=True)"
   ]
  },
  {
   "cell_type": "code",
   "execution_count": 76,
   "metadata": {},
   "outputs": [
    {
     "data": {
      "text/html": [
       "<div>\n",
       "<style scoped>\n",
       "    .dataframe tbody tr th:only-of-type {\n",
       "        vertical-align: middle;\n",
       "    }\n",
       "\n",
       "    .dataframe tbody tr th {\n",
       "        vertical-align: top;\n",
       "    }\n",
       "\n",
       "    .dataframe thead th {\n",
       "        text-align: right;\n",
       "    }\n",
       "</style>\n",
       "<table border=\"1\" class=\"dataframe\">\n",
       "  <thead>\n",
       "    <tr style=\"text-align: right;\">\n",
       "      <th></th>\n",
       "      <th>Model</th>\n",
       "      <th>Accuracy</th>\n",
       "      <th>Precision</th>\n",
       "      <th>Recall</th>\n",
       "      <th>F1 Score</th>\n",
       "      <th>Area Under the Precision-Recall Curve</th>\n",
       "    </tr>\n",
       "  </thead>\n",
       "  <tbody>\n",
       "    <tr>\n",
       "      <th>0</th>\n",
       "      <td>Random Forest</td>\n",
       "      <td>0.999520</td>\n",
       "      <td>0.949153</td>\n",
       "      <td>0.761905</td>\n",
       "      <td>0.845283</td>\n",
       "      <td>0.843667</td>\n",
       "    </tr>\n",
       "    <tr>\n",
       "      <th>1</th>\n",
       "      <td>Gradient Boosting</td>\n",
       "      <td>0.999356</td>\n",
       "      <td>0.870968</td>\n",
       "      <td>0.734694</td>\n",
       "      <td>0.797048</td>\n",
       "      <td>0.708968</td>\n",
       "    </tr>\n",
       "  </tbody>\n",
       "</table>\n",
       "</div>"
      ],
      "text/plain": [
       "               Model  Accuracy  Precision    Recall  F1 Score  \\\n",
       "0      Random Forest  0.999520   0.949153  0.761905  0.845283   \n",
       "1  Gradient Boosting  0.999356   0.870968  0.734694  0.797048   \n",
       "\n",
       "   Area Under the Precision-Recall Curve  \n",
       "0                               0.843667  \n",
       "1                               0.708968  "
      ]
     },
     "execution_count": 76,
     "metadata": {},
     "output_type": "execute_result"
    }
   ],
   "source": [
    "results"
   ]
  },
  {
   "cell_type": "markdown",
   "metadata": {},
   "source": [
    "## Use Extreme Gradient Boosting Alogrithm"
   ]
  },
  {
   "cell_type": "markdown",
   "metadata": {},
   "source": [
    "#### A Brief about Extreme Gradient Boosting Algorithm\n",
    "XGBoost is one of the implementations of Gradient Boosting concept, but what makes XGBoost unique is that it uses “a more regularized model formalization to control over-fitting, which gives it better performance,” according to the author of the algorithm, Tianqi Chen. Therefore, it helps to reduce overfitting."
   ]
  },
  {
   "cell_type": "code",
   "execution_count": 77,
   "metadata": {},
   "outputs": [],
   "source": [
    "from xgboost.sklearn import XGBClassifier"
   ]
  },
  {
   "cell_type": "code",
   "execution_count": 78,
   "metadata": {},
   "outputs": [],
   "source": [
    "xgb_model = XGBClassifier()"
   ]
  },
  {
   "cell_type": "code",
   "execution_count": 79,
   "metadata": {},
   "outputs": [
    {
     "name": "stdout",
     "output_type": "stream",
     "text": [
      "{'base_score': 0.5, 'booster': 'gbtree', 'colsample_bylevel': 1, 'colsample_bytree': 1, 'gamma': 0, 'learning_rate': 0.1, 'max_delta_step': 0, 'max_depth': 3, 'min_child_weight': 1, 'missing': None, 'n_estimators': 100, 'nthread': 1, 'objective': 'binary:logistic', 'reg_alpha': 0, 'reg_lambda': 1, 'scale_pos_weight': 1, 'seed': 0, 'silent': 1, 'subsample': 1}\n"
     ]
    }
   ],
   "source": [
    "# List the default parameters.\n",
    "print(xgb_model.get_xgb_params())"
   ]
  },
  {
   "cell_type": "code",
   "execution_count": 80,
   "metadata": {
    "scrolled": true
   },
   "outputs": [
    {
     "name": "stdout",
     "output_type": "stream",
     "text": [
      "[0]\tvalidation_0-aucpr:0.765275\tvalidation_1-aucpr:0.704112\n",
      "[1]\tvalidation_0-aucpr:0.766009\tvalidation_1-aucpr:0.701005\n",
      "[2]\tvalidation_0-aucpr:0.786139\tvalidation_1-aucpr:0.737627\n",
      "[3]\tvalidation_0-aucpr:0.7875\tvalidation_1-aucpr:0.749396\n",
      "[4]\tvalidation_0-aucpr:0.788318\tvalidation_1-aucpr:0.746766\n",
      "[5]\tvalidation_0-aucpr:0.791327\tvalidation_1-aucpr:0.748545\n",
      "[6]\tvalidation_0-aucpr:0.790929\tvalidation_1-aucpr:0.748327\n",
      "[7]\tvalidation_0-aucpr:0.794449\tvalidation_1-aucpr:0.746775\n",
      "[8]\tvalidation_0-aucpr:0.794126\tvalidation_1-aucpr:0.7492\n",
      "[9]\tvalidation_0-aucpr:0.80414\tvalidation_1-aucpr:0.7664\n",
      "[10]\tvalidation_0-aucpr:0.805521\tvalidation_1-aucpr:0.770868\n",
      "[11]\tvalidation_0-aucpr:0.81519\tvalidation_1-aucpr:0.781762\n",
      "[12]\tvalidation_0-aucpr:0.822767\tvalidation_1-aucpr:0.786457\n",
      "[13]\tvalidation_0-aucpr:0.825709\tvalidation_1-aucpr:0.792608\n",
      "[14]\tvalidation_0-aucpr:0.827122\tvalidation_1-aucpr:0.7938\n",
      "[15]\tvalidation_0-aucpr:0.82761\tvalidation_1-aucpr:0.792999\n",
      "[16]\tvalidation_0-aucpr:0.82993\tvalidation_1-aucpr:0.79456\n",
      "[17]\tvalidation_0-aucpr:0.831866\tvalidation_1-aucpr:0.798499\n",
      "[18]\tvalidation_0-aucpr:0.833712\tvalidation_1-aucpr:0.803579\n",
      "[19]\tvalidation_0-aucpr:0.837091\tvalidation_1-aucpr:0.805997\n",
      "[20]\tvalidation_0-aucpr:0.837213\tvalidation_1-aucpr:0.807811\n",
      "[21]\tvalidation_0-aucpr:0.838197\tvalidation_1-aucpr:0.808738\n",
      "[22]\tvalidation_0-aucpr:0.839022\tvalidation_1-aucpr:0.811038\n",
      "[23]\tvalidation_0-aucpr:0.84003\tvalidation_1-aucpr:0.81153\n",
      "[24]\tvalidation_0-aucpr:0.840587\tvalidation_1-aucpr:0.812938\n",
      "[25]\tvalidation_0-aucpr:0.841872\tvalidation_1-aucpr:0.81264\n",
      "[26]\tvalidation_0-aucpr:0.843504\tvalidation_1-aucpr:0.812952\n",
      "[27]\tvalidation_0-aucpr:0.843655\tvalidation_1-aucpr:0.812919\n",
      "[28]\tvalidation_0-aucpr:0.84527\tvalidation_1-aucpr:0.813812\n",
      "[29]\tvalidation_0-aucpr:0.848021\tvalidation_1-aucpr:0.817451\n",
      "[30]\tvalidation_0-aucpr:0.848569\tvalidation_1-aucpr:0.817994\n",
      "[31]\tvalidation_0-aucpr:0.849038\tvalidation_1-aucpr:0.818442\n",
      "[32]\tvalidation_0-aucpr:0.849456\tvalidation_1-aucpr:0.819628\n",
      "[33]\tvalidation_0-aucpr:0.85301\tvalidation_1-aucpr:0.823042\n",
      "[34]\tvalidation_0-aucpr:0.853711\tvalidation_1-aucpr:0.824133\n",
      "[35]\tvalidation_0-aucpr:0.854401\tvalidation_1-aucpr:0.823774\n",
      "[36]\tvalidation_0-aucpr:0.854791\tvalidation_1-aucpr:0.824104\n",
      "[37]\tvalidation_0-aucpr:0.855033\tvalidation_1-aucpr:0.824005\n",
      "[38]\tvalidation_0-aucpr:0.85534\tvalidation_1-aucpr:0.824178\n",
      "[39]\tvalidation_0-aucpr:0.861515\tvalidation_1-aucpr:0.827681\n",
      "[40]\tvalidation_0-aucpr:0.862731\tvalidation_1-aucpr:0.828719\n",
      "[41]\tvalidation_0-aucpr:0.863491\tvalidation_1-aucpr:0.829901\n",
      "[42]\tvalidation_0-aucpr:0.866064\tvalidation_1-aucpr:0.830945\n",
      "[43]\tvalidation_0-aucpr:0.867302\tvalidation_1-aucpr:0.831417\n",
      "[44]\tvalidation_0-aucpr:0.867857\tvalidation_1-aucpr:0.831471\n",
      "[45]\tvalidation_0-aucpr:0.870587\tvalidation_1-aucpr:0.832967\n",
      "[46]\tvalidation_0-aucpr:0.871213\tvalidation_1-aucpr:0.833498\n",
      "[47]\tvalidation_0-aucpr:0.872985\tvalidation_1-aucpr:0.833117\n",
      "[48]\tvalidation_0-aucpr:0.873593\tvalidation_1-aucpr:0.833305\n",
      "[49]\tvalidation_0-aucpr:0.873855\tvalidation_1-aucpr:0.832289\n",
      "[50]\tvalidation_0-aucpr:0.874856\tvalidation_1-aucpr:0.832744\n",
      "[51]\tvalidation_0-aucpr:0.875723\tvalidation_1-aucpr:0.832453\n",
      "[52]\tvalidation_0-aucpr:0.876675\tvalidation_1-aucpr:0.832817\n",
      "[53]\tvalidation_0-aucpr:0.877202\tvalidation_1-aucpr:0.833653\n",
      "[54]\tvalidation_0-aucpr:0.877887\tvalidation_1-aucpr:0.834054\n",
      "[55]\tvalidation_0-aucpr:0.878577\tvalidation_1-aucpr:0.834224\n",
      "[56]\tvalidation_0-aucpr:0.879099\tvalidation_1-aucpr:0.834884\n",
      "[57]\tvalidation_0-aucpr:0.879884\tvalidation_1-aucpr:0.835631\n",
      "[58]\tvalidation_0-aucpr:0.881141\tvalidation_1-aucpr:0.835617\n",
      "[59]\tvalidation_0-aucpr:0.881715\tvalidation_1-aucpr:0.836014\n",
      "[60]\tvalidation_0-aucpr:0.882535\tvalidation_1-aucpr:0.835853\n",
      "[61]\tvalidation_0-aucpr:0.883163\tvalidation_1-aucpr:0.836242\n",
      "[62]\tvalidation_0-aucpr:0.883977\tvalidation_1-aucpr:0.83697\n",
      "[63]\tvalidation_0-aucpr:0.884676\tvalidation_1-aucpr:0.836878\n",
      "[64]\tvalidation_0-aucpr:0.885562\tvalidation_1-aucpr:0.837893\n",
      "[65]\tvalidation_0-aucpr:0.886441\tvalidation_1-aucpr:0.837491\n",
      "[66]\tvalidation_0-aucpr:0.887053\tvalidation_1-aucpr:0.836681\n",
      "[67]\tvalidation_0-aucpr:0.887637\tvalidation_1-aucpr:0.836949\n",
      "[68]\tvalidation_0-aucpr:0.888733\tvalidation_1-aucpr:0.837357\n",
      "[69]\tvalidation_0-aucpr:0.889693\tvalidation_1-aucpr:0.837925\n",
      "[70]\tvalidation_0-aucpr:0.890577\tvalidation_1-aucpr:0.838489\n",
      "[71]\tvalidation_0-aucpr:0.891632\tvalidation_1-aucpr:0.83796\n",
      "[72]\tvalidation_0-aucpr:0.893153\tvalidation_1-aucpr:0.837951\n",
      "[73]\tvalidation_0-aucpr:0.893967\tvalidation_1-aucpr:0.837963\n",
      "[74]\tvalidation_0-aucpr:0.894678\tvalidation_1-aucpr:0.837154\n",
      "[75]\tvalidation_0-aucpr:0.895133\tvalidation_1-aucpr:0.837234\n",
      "[76]\tvalidation_0-aucpr:0.895706\tvalidation_1-aucpr:0.837185\n",
      "[77]\tvalidation_0-aucpr:0.896433\tvalidation_1-aucpr:0.836921\n",
      "[78]\tvalidation_0-aucpr:0.897355\tvalidation_1-aucpr:0.837213\n",
      "[79]\tvalidation_0-aucpr:0.898612\tvalidation_1-aucpr:0.837354\n",
      "[80]\tvalidation_0-aucpr:0.899442\tvalidation_1-aucpr:0.837822\n",
      "[81]\tvalidation_0-aucpr:0.900261\tvalidation_1-aucpr:0.837674\n",
      "[82]\tvalidation_0-aucpr:0.900959\tvalidation_1-aucpr:0.837947\n",
      "[83]\tvalidation_0-aucpr:0.901676\tvalidation_1-aucpr:0.838341\n",
      "[84]\tvalidation_0-aucpr:0.902761\tvalidation_1-aucpr:0.838539\n",
      "[85]\tvalidation_0-aucpr:0.903668\tvalidation_1-aucpr:0.838586\n",
      "[86]\tvalidation_0-aucpr:0.904431\tvalidation_1-aucpr:0.839364\n",
      "[87]\tvalidation_0-aucpr:0.905297\tvalidation_1-aucpr:0.839642\n",
      "[88]\tvalidation_0-aucpr:0.905857\tvalidation_1-aucpr:0.840188\n",
      "[89]\tvalidation_0-aucpr:0.906188\tvalidation_1-aucpr:0.840823\n",
      "[90]\tvalidation_0-aucpr:0.9073\tvalidation_1-aucpr:0.841196\n",
      "[91]\tvalidation_0-aucpr:0.907976\tvalidation_1-aucpr:0.841331\n",
      "[92]\tvalidation_0-aucpr:0.908449\tvalidation_1-aucpr:0.84145\n",
      "[93]\tvalidation_0-aucpr:0.909736\tvalidation_1-aucpr:0.841703\n",
      "[94]\tvalidation_0-aucpr:0.911049\tvalidation_1-aucpr:0.842226\n",
      "[95]\tvalidation_0-aucpr:0.91151\tvalidation_1-aucpr:0.842356\n",
      "[96]\tvalidation_0-aucpr:0.912421\tvalidation_1-aucpr:0.842934\n",
      "[97]\tvalidation_0-aucpr:0.913453\tvalidation_1-aucpr:0.84302\n",
      "[98]\tvalidation_0-aucpr:0.914848\tvalidation_1-aucpr:0.842959\n",
      "[99]\tvalidation_0-aucpr:0.915146\tvalidation_1-aucpr:0.842881\n"
     ]
    },
    {
     "data": {
      "text/plain": [
       "XGBClassifier(base_score=0.5, booster='gbtree', colsample_bylevel=1,\n",
       "       colsample_bytree=1, gamma=0, learning_rate=0.1, max_delta_step=0,\n",
       "       max_depth=3, min_child_weight=1, missing=None, n_estimators=100,\n",
       "       n_jobs=1, nthread=None, objective='binary:logistic', random_state=0,\n",
       "       reg_alpha=0, reg_lambda=1, scale_pos_weight=1, seed=None,\n",
       "       silent=True, subsample=1)"
      ]
     },
     "execution_count": 80,
     "metadata": {},
     "output_type": "execute_result"
    }
   ],
   "source": [
    "xgb_model.fit(X_train, y_train, eval_metric=[\"aucpr\"], eval_set=[((X_train, y_train)),(X_test, y_test)])"
   ]
  },
  {
   "cell_type": "code",
   "execution_count": 81,
   "metadata": {},
   "outputs": [],
   "source": [
    "y_predxgb = xgb_model.predict(X_test)"
   ]
  },
  {
   "cell_type": "code",
   "execution_count": 82,
   "metadata": {},
   "outputs": [],
   "source": [
    "y_predxgb_proba = xgb_model.predict_proba(X_test)"
   ]
  },
  {
   "cell_type": "code",
   "execution_count": 83,
   "metadata": {
    "scrolled": true
   },
   "outputs": [
    {
     "name": "stdout",
     "output_type": "stream",
     "text": [
      "Confusion matrix :\n",
      "[[85288     8]\n",
      " [   36   111]]\n",
      "Classification report :\n",
      "              precision    recall  f1-score   support\n",
      "\n",
      "           0       1.00      1.00      1.00     85296\n",
      "           1       0.93      0.76      0.83       147\n",
      "\n",
      "   micro avg       1.00      1.00      1.00     85443\n",
      "   macro avg       0.97      0.88      0.92     85443\n",
      "weighted avg       1.00      1.00      1.00     85443\n",
      "\n",
      "Accuracy : 0.9994850368081645\n",
      "Area under the curve : 0.8775041248913746\n",
      "Area Under the Precision-Recall Curve (AUPRC): 0.8428810146820906\n"
     ]
    }
   ],
   "source": [
    "print(\"Confusion matrix :\")\n",
    "print(confusion_matrix(y_test, y_predxgb))\n",
    "print(\"Classification report :\")\n",
    "print(classification_report(y_test, y_predxgb))\n",
    "print(\"Accuracy :\",(accuracy_score(y_test, y_predxgb)))\n",
    "print(\"Area under the curve :\", (roc_auc_score(y_test, y_predxgb)))\n",
    "print(\"Area Under the Precision-Recall Curve (AUPRC):\", pr_auc_score(y_test, y_predxgb_proba))"
   ]
  },
  {
   "cell_type": "code",
   "execution_count": 84,
   "metadata": {},
   "outputs": [],
   "source": [
    "acc = accuracy_score(y_test, y_predxgb)\n",
    "prec = precision_score(y_test, y_predxgb)\n",
    "rec = recall_score(y_test, y_predxgb)\n",
    "f1 = f1_score(y_test, y_predxgb)\n",
    "auprc = pr_auc_score(y_test, y_predxgb_proba)"
   ]
  },
  {
   "cell_type": "code",
   "execution_count": 85,
   "metadata": {
    "scrolled": true
   },
   "outputs": [],
   "source": [
    "model_results = pd.DataFrame([[\"Extreme Gradient Boosting\", acc, prec, rec, f1, auprc]],\n",
    "               columns = [\"Model\", \"Accuracy\", \"Precision\", \"Recall\", \"F1 Score\", \"Area Under the Precision-Recall Curve\"])"
   ]
  },
  {
   "cell_type": "code",
   "execution_count": 86,
   "metadata": {},
   "outputs": [],
   "source": [
    "results = results.append(model_results, ignore_index=True)"
   ]
  },
  {
   "cell_type": "code",
   "execution_count": 87,
   "metadata": {},
   "outputs": [
    {
     "data": {
      "text/html": [
       "<div>\n",
       "<style scoped>\n",
       "    .dataframe tbody tr th:only-of-type {\n",
       "        vertical-align: middle;\n",
       "    }\n",
       "\n",
       "    .dataframe tbody tr th {\n",
       "        vertical-align: top;\n",
       "    }\n",
       "\n",
       "    .dataframe thead th {\n",
       "        text-align: right;\n",
       "    }\n",
       "</style>\n",
       "<table border=\"1\" class=\"dataframe\">\n",
       "  <thead>\n",
       "    <tr style=\"text-align: right;\">\n",
       "      <th></th>\n",
       "      <th>Model</th>\n",
       "      <th>Accuracy</th>\n",
       "      <th>Precision</th>\n",
       "      <th>Recall</th>\n",
       "      <th>F1 Score</th>\n",
       "      <th>Area Under the Precision-Recall Curve</th>\n",
       "    </tr>\n",
       "  </thead>\n",
       "  <tbody>\n",
       "    <tr>\n",
       "      <th>0</th>\n",
       "      <td>Random Forest</td>\n",
       "      <td>0.999520</td>\n",
       "      <td>0.949153</td>\n",
       "      <td>0.761905</td>\n",
       "      <td>0.845283</td>\n",
       "      <td>0.843667</td>\n",
       "    </tr>\n",
       "    <tr>\n",
       "      <th>1</th>\n",
       "      <td>Gradient Boosting</td>\n",
       "      <td>0.999356</td>\n",
       "      <td>0.870968</td>\n",
       "      <td>0.734694</td>\n",
       "      <td>0.797048</td>\n",
       "      <td>0.708968</td>\n",
       "    </tr>\n",
       "    <tr>\n",
       "      <th>2</th>\n",
       "      <td>Extreme Gradient Boosting</td>\n",
       "      <td>0.999485</td>\n",
       "      <td>0.932773</td>\n",
       "      <td>0.755102</td>\n",
       "      <td>0.834586</td>\n",
       "      <td>0.842881</td>\n",
       "    </tr>\n",
       "  </tbody>\n",
       "</table>\n",
       "</div>"
      ],
      "text/plain": [
       "                       Model  Accuracy  Precision    Recall  F1 Score  \\\n",
       "0              Random Forest  0.999520   0.949153  0.761905  0.845283   \n",
       "1          Gradient Boosting  0.999356   0.870968  0.734694  0.797048   \n",
       "2  Extreme Gradient Boosting  0.999485   0.932773  0.755102  0.834586   \n",
       "\n",
       "   Area Under the Precision-Recall Curve  \n",
       "0                               0.843667  \n",
       "1                               0.708968  \n",
       "2                               0.842881  "
      ]
     },
     "execution_count": 87,
     "metadata": {},
     "output_type": "execute_result"
    }
   ],
   "source": [
    "results"
   ]
  },
  {
   "cell_type": "markdown",
   "metadata": {},
   "source": [
    "## Dealing with imbalanced data"
   ]
  },
  {
   "cell_type": "markdown",
   "metadata": {},
   "source": [
    "## Approach 1:  Random Under Sampling\n",
    "#### This is done to reduce the imbalance between frauds & non frauds"
   ]
  },
  {
   "cell_type": "markdown",
   "metadata": {},
   "source": [
    "Undersampling works by sampling the dominant class to reduce the number of samples. One simple way of undersampling is randomly selecting a handful of samples from the class that is overrepresented."
   ]
  },
  {
   "cell_type": "markdown",
   "metadata": {},
   "source": [
    "The RandomUnderSampler class from the imblearn library is a fast and easy way to balance the data by randomly selecting a subset of data for the targeted classes. It works by performing k-means clustering on the majority class and removing data points from high-density centroids."
   ]
  },
  {
   "cell_type": "markdown",
   "metadata": {},
   "source": [
    "![](https://flypaper.soundfly.com/wp-content/uploads/2016/03/Araabmuzik-using-samplers.jpg)"
   ]
  },
  {
   "cell_type": "code",
   "execution_count": 89,
   "metadata": {},
   "outputs": [
    {
     "data": {
      "text/plain": [
       "0    199019\n",
       "1       345\n",
       "Name: Class, dtype: int64"
      ]
     },
     "execution_count": 89,
     "metadata": {},
     "output_type": "execute_result"
    }
   ],
   "source": [
    "y_train.value_counts()"
   ]
  },
  {
   "cell_type": "code",
   "execution_count": 90,
   "metadata": {},
   "outputs": [],
   "source": [
    "from imblearn.under_sampling import RandomUnderSampler"
   ]
  },
  {
   "cell_type": "code",
   "execution_count": 91,
   "metadata": {},
   "outputs": [],
   "source": [
    "rus = RandomUnderSampler(random_state=42)"
   ]
  },
  {
   "cell_type": "code",
   "execution_count": 92,
   "metadata": {},
   "outputs": [],
   "source": [
    "X_res, y_res = rus.fit_sample(X_train, y_train)"
   ]
  },
  {
   "cell_type": "code",
   "execution_count": 93,
   "metadata": {},
   "outputs": [],
   "source": [
    "X_train_res_under = pd.DataFrame(data=X_res, columns=X_train.columns)\n",
    "y_train_res_under = pd.DataFrame(data=y_res, columns=[\"Class\"])"
   ]
  },
  {
   "cell_type": "code",
   "execution_count": 94,
   "metadata": {},
   "outputs": [
    {
     "data": {
      "text/plain": [
       "1    345\n",
       "0    345\n",
       "Name: Class, dtype: int64"
      ]
     },
     "execution_count": 94,
     "metadata": {},
     "output_type": "execute_result"
    }
   ],
   "source": [
    "y_train_res_under.Class.value_counts()"
   ]
  },
  {
   "cell_type": "markdown",
   "metadata": {},
   "source": [
    "### Random Forest Classifier on undersampled data\n"
   ]
  },
  {
   "cell_type": "code",
   "execution_count": 95,
   "metadata": {},
   "outputs": [
    {
     "data": {
      "text/plain": [
       "RandomForestClassifier(bootstrap=True, class_weight=None, criterion='gini',\n",
       "            max_depth=None, max_features='auto', max_leaf_nodes=None,\n",
       "            min_impurity_decrease=0.0, min_impurity_split=None,\n",
       "            min_samples_leaf=1, min_samples_split=2,\n",
       "            min_weight_fraction_leaf=0.0, n_estimators=100, n_jobs=None,\n",
       "            oob_score=False, random_state=None, verbose=0,\n",
       "            warm_start=False)"
      ]
     },
     "execution_count": 95,
     "metadata": {},
     "output_type": "execute_result"
    }
   ],
   "source": [
    "rf = RandomForestClassifier(n_estimators = 100)\n",
    "rf.fit(X_train_res_under, y_train_res_under)"
   ]
  },
  {
   "cell_type": "code",
   "execution_count": 100,
   "metadata": {},
   "outputs": [],
   "source": [
    "y_pred_rf_under = rf.predict(X_test)"
   ]
  },
  {
   "cell_type": "code",
   "execution_count": 101,
   "metadata": {},
   "outputs": [],
   "source": [
    "y_predrf_proba_under = rf.predict_proba(X_test)"
   ]
  },
  {
   "cell_type": "code",
   "execution_count": 102,
   "metadata": {},
   "outputs": [
    {
     "name": "stdout",
     "output_type": "stream",
     "text": [
      "Confusion matrix :\n",
      "[[83972  1324]\n",
      " [   17   130]]\n",
      "Classification report :\n",
      "              precision    recall  f1-score   support\n",
      "\n",
      "           0       1.00      0.98      0.99     85296\n",
      "           1       0.09      0.88      0.16       147\n",
      "\n",
      "   micro avg       0.98      0.98      0.98     85443\n",
      "   macro avg       0.54      0.93      0.58     85443\n",
      "weighted avg       1.00      0.98      0.99     85443\n",
      "\n",
      "Accuracy : 0.9843053263579228\n",
      "Area under the curve : 0.9344156627197868\n",
      "Area Under the Precision-Recall Curve (AUPRC): 0.7707997734803771\n"
     ]
    }
   ],
   "source": [
    "print(\"Confusion matrix :\")\n",
    "print(confusion_matrix(y_test, y_pred_rf_under))\n",
    "print(\"Classification report :\")\n",
    "print(classification_report(y_test, y_pred_rf_under))\n",
    "print(\"Accuracy :\",(accuracy_score(y_test, y_pred_rf_under)))\n",
    "print(\"Area under the curve :\", (roc_auc_score(y_test, y_pred_rf_under)))\n",
    "print(\"Area Under the Precision-Recall Curve (AUPRC):\", pr_auc_score(y_test, y_predrf_proba_under))"
   ]
  },
  {
   "cell_type": "code",
   "execution_count": 103,
   "metadata": {},
   "outputs": [],
   "source": [
    "acc = accuracy_score(y_test, y_pred_rf_under)\n",
    "prec = precision_score(y_test, y_pred_rf_under)\n",
    "rec = recall_score(y_test, y_pred_rf_under)\n",
    "f1 = f1_score(y_test, y_pred_rf_under)\n",
    "auprc = pr_auc_score(y_test, y_predrf_proba_under)"
   ]
  },
  {
   "cell_type": "code",
   "execution_count": 104,
   "metadata": {},
   "outputs": [],
   "source": [
    "model_results = pd.DataFrame([[\"Random Forest Classifier + Undersampled data\", acc, prec, rec, f1, auprc]],\n",
    "               columns = [\"Model\", \"Accuracy\", \"Precision\", \"Recall\", \"F1 Score\", \"Area Under the Precision-Recall Curve\"])"
   ]
  },
  {
   "cell_type": "code",
   "execution_count": 105,
   "metadata": {},
   "outputs": [],
   "source": [
    "results = results.append(model_results, ignore_index=True)"
   ]
  },
  {
   "cell_type": "code",
   "execution_count": 106,
   "metadata": {},
   "outputs": [
    {
     "data": {
      "text/html": [
       "<div>\n",
       "<style scoped>\n",
       "    .dataframe tbody tr th:only-of-type {\n",
       "        vertical-align: middle;\n",
       "    }\n",
       "\n",
       "    .dataframe tbody tr th {\n",
       "        vertical-align: top;\n",
       "    }\n",
       "\n",
       "    .dataframe thead th {\n",
       "        text-align: right;\n",
       "    }\n",
       "</style>\n",
       "<table border=\"1\" class=\"dataframe\">\n",
       "  <thead>\n",
       "    <tr style=\"text-align: right;\">\n",
       "      <th></th>\n",
       "      <th>Model</th>\n",
       "      <th>Accuracy</th>\n",
       "      <th>Precision</th>\n",
       "      <th>Recall</th>\n",
       "      <th>F1 Score</th>\n",
       "      <th>Area Under the Precision-Recall Curve</th>\n",
       "    </tr>\n",
       "  </thead>\n",
       "  <tbody>\n",
       "    <tr>\n",
       "      <th>0</th>\n",
       "      <td>Random Forest</td>\n",
       "      <td>0.999520</td>\n",
       "      <td>0.949153</td>\n",
       "      <td>0.761905</td>\n",
       "      <td>0.845283</td>\n",
       "      <td>0.843667</td>\n",
       "    </tr>\n",
       "    <tr>\n",
       "      <th>1</th>\n",
       "      <td>Gradient Boosting</td>\n",
       "      <td>0.999356</td>\n",
       "      <td>0.870968</td>\n",
       "      <td>0.734694</td>\n",
       "      <td>0.797048</td>\n",
       "      <td>0.708968</td>\n",
       "    </tr>\n",
       "    <tr>\n",
       "      <th>2</th>\n",
       "      <td>Extreme Gradient Boosting</td>\n",
       "      <td>0.999485</td>\n",
       "      <td>0.932773</td>\n",
       "      <td>0.755102</td>\n",
       "      <td>0.834586</td>\n",
       "      <td>0.842881</td>\n",
       "    </tr>\n",
       "    <tr>\n",
       "      <th>3</th>\n",
       "      <td>Random Forest Classifier + Undersampled data</td>\n",
       "      <td>0.984305</td>\n",
       "      <td>0.089409</td>\n",
       "      <td>0.884354</td>\n",
       "      <td>0.162399</td>\n",
       "      <td>0.770800</td>\n",
       "    </tr>\n",
       "  </tbody>\n",
       "</table>\n",
       "</div>"
      ],
      "text/plain": [
       "                                          Model  Accuracy  Precision  \\\n",
       "0                                 Random Forest  0.999520   0.949153   \n",
       "1                             Gradient Boosting  0.999356   0.870968   \n",
       "2                     Extreme Gradient Boosting  0.999485   0.932773   \n",
       "3  Random Forest Classifier + Undersampled data  0.984305   0.089409   \n",
       "\n",
       "     Recall  F1 Score  Area Under the Precision-Recall Curve  \n",
       "0  0.761905  0.845283                               0.843667  \n",
       "1  0.734694  0.797048                               0.708968  \n",
       "2  0.755102  0.834586                               0.842881  \n",
       "3  0.884354  0.162399                               0.770800  "
      ]
     },
     "execution_count": 106,
     "metadata": {},
     "output_type": "execute_result"
    }
   ],
   "source": [
    "results"
   ]
  },
  {
   "cell_type": "markdown",
   "metadata": {},
   "source": [
    "### Gradient Boost Algorithm on undersampled data"
   ]
  },
  {
   "cell_type": "code",
   "execution_count": 107,
   "metadata": {},
   "outputs": [],
   "source": [
    "GB = GradientBoostingClassifier(n_estimators=650, max_depth=3, subsample=0.5, \n",
    "                                learning_rate=0.01, min_samples_leaf=1, random_state=3)"
   ]
  },
  {
   "cell_type": "code",
   "execution_count": 108,
   "metadata": {},
   "outputs": [
    {
     "data": {
      "text/plain": [
       "GradientBoostingClassifier(criterion='friedman_mse', init=None,\n",
       "              learning_rate=0.01, loss='deviance', max_depth=3,\n",
       "              max_features=None, max_leaf_nodes=None,\n",
       "              min_impurity_decrease=0.0, min_impurity_split=None,\n",
       "              min_samples_leaf=1, min_samples_split=2,\n",
       "              min_weight_fraction_leaf=0.0, n_estimators=650,\n",
       "              n_iter_no_change=None, presort='auto', random_state=3,\n",
       "              subsample=0.5, tol=0.0001, validation_fraction=0.1,\n",
       "              verbose=0, warm_start=False)"
      ]
     },
     "execution_count": 108,
     "metadata": {},
     "output_type": "execute_result"
    }
   ],
   "source": [
    "GB.fit(X_train_res_under, y_train_res_under)"
   ]
  },
  {
   "cell_type": "code",
   "execution_count": 109,
   "metadata": {},
   "outputs": [],
   "source": [
    "y_pred_gb_under = GB.predict(X_test)"
   ]
  },
  {
   "cell_type": "code",
   "execution_count": 110,
   "metadata": {},
   "outputs": [],
   "source": [
    "y_predgb_proba_under = GB.predict_proba(X_test)"
   ]
  },
  {
   "cell_type": "code",
   "execution_count": 111,
   "metadata": {},
   "outputs": [
    {
     "name": "stdout",
     "output_type": "stream",
     "text": [
      "Confusion matrix :\n",
      "[[83427  1869]\n",
      " [   16   131]]\n",
      "Classification report :\n",
      "              precision    recall  f1-score   support\n",
      "\n",
      "           0       1.00      0.98      0.99     85296\n",
      "           1       0.07      0.89      0.12       147\n",
      "\n",
      "   micro avg       0.98      0.98      0.98     85443\n",
      "   macro avg       0.53      0.93      0.56     85443\n",
      "weighted avg       1.00      0.98      0.99     85443\n",
      "\n",
      "Accuracy : 0.9779385087134113\n",
      "Area under the curve : 0.9346222661827814\n",
      "Area Under the Precision-Recall Curve (AUPRC): 0.6972849613740874\n"
     ]
    }
   ],
   "source": [
    "print(\"Confusion matrix :\")\n",
    "print(confusion_matrix(y_test, y_pred_gb_under))\n",
    "print(\"Classification report :\")\n",
    "print(classification_report(y_test, y_pred_gb_under))\n",
    "print(\"Accuracy :\",(accuracy_score(y_test, y_pred_gb_under)))\n",
    "print(\"Area under the curve :\", (roc_auc_score(y_test, y_pred_gb_under)))\n",
    "print(\"Area Under the Precision-Recall Curve (AUPRC):\", pr_auc_score(y_test, y_predgb_proba_under))"
   ]
  },
  {
   "cell_type": "code",
   "execution_count": 116,
   "metadata": {},
   "outputs": [],
   "source": [
    "acc = accuracy_score(y_test, y_pred_gb_under)\n",
    "prec = precision_score(y_test, y_pred_gb_under)\n",
    "rec = recall_score(y_test, y_pred_gb_under)\n",
    "f1 = f1_score(y_test, y_pred_gb_under)\n",
    "auprc = pr_auc_score(y_test, y_predgb_proba_under)"
   ]
  },
  {
   "cell_type": "code",
   "execution_count": 117,
   "metadata": {},
   "outputs": [],
   "source": [
    "model_results = pd.DataFrame([[\"Gradient Boost + Undersampled data\", acc, prec, rec, f1, auprc]],\n",
    "               columns = [\"Model\", \"Accuracy\", \"Precision\", \"Recall\", \"F1 Score\", \"Area Under the Precision-Recall Curve\"])"
   ]
  },
  {
   "cell_type": "code",
   "execution_count": 118,
   "metadata": {},
   "outputs": [],
   "source": [
    "results = results.append(model_results, ignore_index=True)"
   ]
  },
  {
   "cell_type": "code",
   "execution_count": 121,
   "metadata": {},
   "outputs": [
    {
     "data": {
      "text/html": [
       "<div>\n",
       "<style scoped>\n",
       "    .dataframe tbody tr th:only-of-type {\n",
       "        vertical-align: middle;\n",
       "    }\n",
       "\n",
       "    .dataframe tbody tr th {\n",
       "        vertical-align: top;\n",
       "    }\n",
       "\n",
       "    .dataframe thead th {\n",
       "        text-align: right;\n",
       "    }\n",
       "</style>\n",
       "<table border=\"1\" class=\"dataframe\">\n",
       "  <thead>\n",
       "    <tr style=\"text-align: right;\">\n",
       "      <th></th>\n",
       "      <th>Model</th>\n",
       "      <th>Accuracy</th>\n",
       "      <th>Precision</th>\n",
       "      <th>Recall</th>\n",
       "      <th>F1 Score</th>\n",
       "      <th>Area Under the Precision-Recall Curve</th>\n",
       "    </tr>\n",
       "  </thead>\n",
       "  <tbody>\n",
       "    <tr>\n",
       "      <th>0</th>\n",
       "      <td>Random Forest</td>\n",
       "      <td>0.999520</td>\n",
       "      <td>0.949153</td>\n",
       "      <td>0.761905</td>\n",
       "      <td>0.845283</td>\n",
       "      <td>0.843667</td>\n",
       "    </tr>\n",
       "    <tr>\n",
       "      <th>1</th>\n",
       "      <td>Gradient Boosting</td>\n",
       "      <td>0.999356</td>\n",
       "      <td>0.870968</td>\n",
       "      <td>0.734694</td>\n",
       "      <td>0.797048</td>\n",
       "      <td>0.708968</td>\n",
       "    </tr>\n",
       "    <tr>\n",
       "      <th>2</th>\n",
       "      <td>Extreme Gradient Boosting</td>\n",
       "      <td>0.999485</td>\n",
       "      <td>0.932773</td>\n",
       "      <td>0.755102</td>\n",
       "      <td>0.834586</td>\n",
       "      <td>0.842881</td>\n",
       "    </tr>\n",
       "    <tr>\n",
       "      <th>3</th>\n",
       "      <td>Random Forest Classifier + Undersampled data</td>\n",
       "      <td>0.984305</td>\n",
       "      <td>0.089409</td>\n",
       "      <td>0.884354</td>\n",
       "      <td>0.162399</td>\n",
       "      <td>0.770800</td>\n",
       "    </tr>\n",
       "    <tr>\n",
       "      <th>5</th>\n",
       "      <td>Gradient Boost + Undersampled data</td>\n",
       "      <td>0.977939</td>\n",
       "      <td>0.065500</td>\n",
       "      <td>0.891156</td>\n",
       "      <td>0.122031</td>\n",
       "      <td>0.697285</td>\n",
       "    </tr>\n",
       "  </tbody>\n",
       "</table>\n",
       "</div>"
      ],
      "text/plain": [
       "                                          Model  Accuracy  Precision  \\\n",
       "0                                 Random Forest  0.999520   0.949153   \n",
       "1                             Gradient Boosting  0.999356   0.870968   \n",
       "2                     Extreme Gradient Boosting  0.999485   0.932773   \n",
       "3  Random Forest Classifier + Undersampled data  0.984305   0.089409   \n",
       "5            Gradient Boost + Undersampled data  0.977939   0.065500   \n",
       "\n",
       "     Recall  F1 Score  Area Under the Precision-Recall Curve  \n",
       "0  0.761905  0.845283                               0.843667  \n",
       "1  0.734694  0.797048                               0.708968  \n",
       "2  0.755102  0.834586                               0.842881  \n",
       "3  0.884354  0.162399                               0.770800  \n",
       "5  0.891156  0.122031                               0.697285  "
      ]
     },
     "execution_count": 121,
     "metadata": {},
     "output_type": "execute_result"
    }
   ],
   "source": [
    "results"
   ]
  },
  {
   "cell_type": "markdown",
   "metadata": {},
   "source": [
    "### Extreme Gradient Boost Algorithm on undersampled data"
   ]
  },
  {
   "cell_type": "code",
   "execution_count": 122,
   "metadata": {},
   "outputs": [],
   "source": [
    "from xgboost.sklearn import XGBClassifier"
   ]
  },
  {
   "cell_type": "code",
   "execution_count": 123,
   "metadata": {},
   "outputs": [],
   "source": [
    "XGB = XGBClassifier()"
   ]
  },
  {
   "cell_type": "code",
   "execution_count": 124,
   "metadata": {},
   "outputs": [
    {
     "name": "stdout",
     "output_type": "stream",
     "text": [
      "{'base_score': 0.5, 'booster': 'gbtree', 'colsample_bylevel': 1, 'colsample_bytree': 1, 'gamma': 0, 'learning_rate': 0.1, 'max_delta_step': 0, 'max_depth': 3, 'min_child_weight': 1, 'missing': None, 'n_estimators': 100, 'nthread': 1, 'objective': 'binary:logistic', 'reg_alpha': 0, 'reg_lambda': 1, 'scale_pos_weight': 1, 'seed': 0, 'silent': 1, 'subsample': 1}\n"
     ]
    }
   ],
   "source": [
    "# List the default parameters.\n",
    "print(XGB.get_xgb_params())"
   ]
  },
  {
   "cell_type": "code",
   "execution_count": 125,
   "metadata": {},
   "outputs": [
    {
     "name": "stdout",
     "output_type": "stream",
     "text": [
      "[0]\tvalidation_0-aucpr:0.982035\tvalidation_1-aucpr:0.098814\n",
      "[1]\tvalidation_0-aucpr:0.986024\tvalidation_1-aucpr:0.22975\n",
      "[2]\tvalidation_0-aucpr:0.987011\tvalidation_1-aucpr:0.230189\n",
      "[3]\tvalidation_0-aucpr:0.987511\tvalidation_1-aucpr:0.23017\n",
      "[4]\tvalidation_0-aucpr:0.987868\tvalidation_1-aucpr:0.231936\n",
      "[5]\tvalidation_0-aucpr:0.988123\tvalidation_1-aucpr:0.232719\n",
      "[6]\tvalidation_0-aucpr:0.988131\tvalidation_1-aucpr:0.235057\n",
      "[7]\tvalidation_0-aucpr:0.990363\tvalidation_1-aucpr:0.235136\n",
      "[8]\tvalidation_0-aucpr:0.991192\tvalidation_1-aucpr:0.235426\n",
      "[9]\tvalidation_0-aucpr:0.991522\tvalidation_1-aucpr:0.234916\n",
      "[10]\tvalidation_0-aucpr:0.992339\tvalidation_1-aucpr:0.601743\n",
      "[11]\tvalidation_0-aucpr:0.992519\tvalidation_1-aucpr:0.601329\n",
      "[12]\tvalidation_0-aucpr:0.992773\tvalidation_1-aucpr:0.600684\n",
      "[13]\tvalidation_0-aucpr:0.9927\tvalidation_1-aucpr:0.600885\n",
      "[14]\tvalidation_0-aucpr:0.99281\tvalidation_1-aucpr:0.614815\n",
      "[15]\tvalidation_0-aucpr:0.993119\tvalidation_1-aucpr:0.69794\n",
      "[16]\tvalidation_0-aucpr:0.99355\tvalidation_1-aucpr:0.698591\n",
      "[17]\tvalidation_0-aucpr:0.993918\tvalidation_1-aucpr:0.701702\n",
      "[18]\tvalidation_0-aucpr:0.993935\tvalidation_1-aucpr:0.702727\n",
      "[19]\tvalidation_0-aucpr:0.99409\tvalidation_1-aucpr:0.707241\n",
      "[20]\tvalidation_0-aucpr:0.994438\tvalidation_1-aucpr:0.710663\n",
      "[21]\tvalidation_0-aucpr:0.994392\tvalidation_1-aucpr:0.710267\n",
      "[22]\tvalidation_0-aucpr:0.994511\tvalidation_1-aucpr:0.714321\n",
      "[23]\tvalidation_0-aucpr:0.994775\tvalidation_1-aucpr:0.71264\n",
      "[24]\tvalidation_0-aucpr:0.994997\tvalidation_1-aucpr:0.714665\n",
      "[25]\tvalidation_0-aucpr:0.995216\tvalidation_1-aucpr:0.716659\n",
      "[26]\tvalidation_0-aucpr:0.995327\tvalidation_1-aucpr:0.715845\n",
      "[27]\tvalidation_0-aucpr:0.995492\tvalidation_1-aucpr:0.714603\n",
      "[28]\tvalidation_0-aucpr:0.995807\tvalidation_1-aucpr:0.716456\n",
      "[29]\tvalidation_0-aucpr:0.995848\tvalidation_1-aucpr:0.718288\n",
      "[30]\tvalidation_0-aucpr:0.995972\tvalidation_1-aucpr:0.71761\n",
      "[31]\tvalidation_0-aucpr:0.99639\tvalidation_1-aucpr:0.724456\n",
      "[32]\tvalidation_0-aucpr:0.996757\tvalidation_1-aucpr:0.718743\n",
      "[33]\tvalidation_0-aucpr:0.997018\tvalidation_1-aucpr:0.719806\n",
      "[34]\tvalidation_0-aucpr:0.997261\tvalidation_1-aucpr:0.714913\n",
      "[35]\tvalidation_0-aucpr:0.997435\tvalidation_1-aucpr:0.718668\n",
      "[36]\tvalidation_0-aucpr:0.997849\tvalidation_1-aucpr:0.70837\n",
      "[37]\tvalidation_0-aucpr:0.998016\tvalidation_1-aucpr:0.704227\n",
      "[38]\tvalidation_0-aucpr:0.998148\tvalidation_1-aucpr:0.705382\n",
      "[39]\tvalidation_0-aucpr:0.998191\tvalidation_1-aucpr:0.704758\n",
      "[40]\tvalidation_0-aucpr:0.998309\tvalidation_1-aucpr:0.706296\n",
      "[41]\tvalidation_0-aucpr:0.998449\tvalidation_1-aucpr:0.700853\n",
      "[42]\tvalidation_0-aucpr:0.998657\tvalidation_1-aucpr:0.700451\n",
      "[43]\tvalidation_0-aucpr:0.998783\tvalidation_1-aucpr:0.694215\n",
      "[44]\tvalidation_0-aucpr:0.998887\tvalidation_1-aucpr:0.694626\n",
      "[45]\tvalidation_0-aucpr:0.999024\tvalidation_1-aucpr:0.688992\n",
      "[46]\tvalidation_0-aucpr:0.999112\tvalidation_1-aucpr:0.714331\n",
      "[47]\tvalidation_0-aucpr:0.9992\tvalidation_1-aucpr:0.713642\n",
      "[48]\tvalidation_0-aucpr:0.999267\tvalidation_1-aucpr:0.729237\n",
      "[49]\tvalidation_0-aucpr:0.999372\tvalidation_1-aucpr:0.730497\n",
      "[50]\tvalidation_0-aucpr:0.999462\tvalidation_1-aucpr:0.730453\n",
      "[51]\tvalidation_0-aucpr:0.99952\tvalidation_1-aucpr:0.730626\n",
      "[52]\tvalidation_0-aucpr:0.999556\tvalidation_1-aucpr:0.730862\n",
      "[53]\tvalidation_0-aucpr:0.99958\tvalidation_1-aucpr:0.723916\n",
      "[54]\tvalidation_0-aucpr:0.999623\tvalidation_1-aucpr:0.728399\n",
      "[55]\tvalidation_0-aucpr:0.999666\tvalidation_1-aucpr:0.734587\n",
      "[56]\tvalidation_0-aucpr:0.999692\tvalidation_1-aucpr:0.739964\n",
      "[57]\tvalidation_0-aucpr:0.999735\tvalidation_1-aucpr:0.740495\n",
      "[58]\tvalidation_0-aucpr:0.999777\tvalidation_1-aucpr:0.731476\n",
      "[59]\tvalidation_0-aucpr:0.999786\tvalidation_1-aucpr:0.730041\n",
      "[60]\tvalidation_0-aucpr:0.999795\tvalidation_1-aucpr:0.730941\n",
      "[61]\tvalidation_0-aucpr:0.999803\tvalidation_1-aucpr:0.729795\n",
      "[62]\tvalidation_0-aucpr:0.999803\tvalidation_1-aucpr:0.729095\n",
      "[63]\tvalidation_0-aucpr:0.999846\tvalidation_1-aucpr:0.729115\n",
      "[64]\tvalidation_0-aucpr:0.999864\tvalidation_1-aucpr:0.73582\n",
      "[65]\tvalidation_0-aucpr:0.999881\tvalidation_1-aucpr:0.737466\n",
      "[66]\tvalidation_0-aucpr:0.999889\tvalidation_1-aucpr:0.728829\n",
      "[67]\tvalidation_0-aucpr:0.999898\tvalidation_1-aucpr:0.72819\n",
      "[68]\tvalidation_0-aucpr:0.999898\tvalidation_1-aucpr:0.724996\n",
      "[69]\tvalidation_0-aucpr:0.999906\tvalidation_1-aucpr:0.72419\n",
      "[70]\tvalidation_0-aucpr:0.999932\tvalidation_1-aucpr:0.716773\n",
      "[71]\tvalidation_0-aucpr:0.999932\tvalidation_1-aucpr:0.720867\n",
      "[72]\tvalidation_0-aucpr:0.999941\tvalidation_1-aucpr:0.721625\n",
      "[73]\tvalidation_0-aucpr:0.999949\tvalidation_1-aucpr:0.72276\n",
      "[74]\tvalidation_0-aucpr:0.999958\tvalidation_1-aucpr:0.722628\n",
      "[75]\tvalidation_0-aucpr:0.999958\tvalidation_1-aucpr:0.723295\n",
      "[76]\tvalidation_0-aucpr:0.999975\tvalidation_1-aucpr:0.723354\n",
      "[77]\tvalidation_0-aucpr:0.999983\tvalidation_1-aucpr:0.717969\n",
      "[78]\tvalidation_0-aucpr:0.999983\tvalidation_1-aucpr:0.725213\n",
      "[79]\tvalidation_0-aucpr:0.999992\tvalidation_1-aucpr:0.725836\n",
      "[80]\tvalidation_0-aucpr:0.999992\tvalidation_1-aucpr:0.722263\n",
      "[81]\tvalidation_0-aucpr:1\tvalidation_1-aucpr:0.722542\n",
      "[82]\tvalidation_0-aucpr:1\tvalidation_1-aucpr:0.720389\n",
      "[83]\tvalidation_0-aucpr:1\tvalidation_1-aucpr:0.727114\n",
      "[84]\tvalidation_0-aucpr:1\tvalidation_1-aucpr:0.727557\n",
      "[85]\tvalidation_0-aucpr:1\tvalidation_1-aucpr:0.727349\n",
      "[86]\tvalidation_0-aucpr:1\tvalidation_1-aucpr:0.726054\n",
      "[87]\tvalidation_0-aucpr:1\tvalidation_1-aucpr:0.728696\n",
      "[88]\tvalidation_0-aucpr:1\tvalidation_1-aucpr:0.728285\n",
      "[89]\tvalidation_0-aucpr:1\tvalidation_1-aucpr:0.726637\n",
      "[90]\tvalidation_0-aucpr:1\tvalidation_1-aucpr:0.728122\n",
      "[91]\tvalidation_0-aucpr:1\tvalidation_1-aucpr:0.728061\n",
      "[92]\tvalidation_0-aucpr:1\tvalidation_1-aucpr:0.730774\n",
      "[93]\tvalidation_0-aucpr:1\tvalidation_1-aucpr:0.729382\n",
      "[94]\tvalidation_0-aucpr:1\tvalidation_1-aucpr:0.729421\n",
      "[95]\tvalidation_0-aucpr:1\tvalidation_1-aucpr:0.723315\n",
      "[96]\tvalidation_0-aucpr:1\tvalidation_1-aucpr:0.72251\n",
      "[97]\tvalidation_0-aucpr:1\tvalidation_1-aucpr:0.721016\n",
      "[98]\tvalidation_0-aucpr:1\tvalidation_1-aucpr:0.72485\n",
      "[99]\tvalidation_0-aucpr:1\tvalidation_1-aucpr:0.723792\n"
     ]
    },
    {
     "data": {
      "text/plain": [
       "XGBClassifier(base_score=0.5, booster='gbtree', colsample_bylevel=1,\n",
       "       colsample_bytree=1, gamma=0, learning_rate=0.1, max_delta_step=0,\n",
       "       max_depth=3, min_child_weight=1, missing=None, n_estimators=100,\n",
       "       n_jobs=1, nthread=None, objective='binary:logistic', random_state=0,\n",
       "       reg_alpha=0, reg_lambda=1, scale_pos_weight=1, seed=None,\n",
       "       silent=True, subsample=1)"
      ]
     },
     "execution_count": 125,
     "metadata": {},
     "output_type": "execute_result"
    }
   ],
   "source": [
    "XGB.fit(X_train_res_under, y_train_res_under, eval_metric=[\"aucpr\"], eval_set=[((X_train_res_under, y_train_res_under)),(X_test, y_test)])"
   ]
  },
  {
   "cell_type": "code",
   "execution_count": 126,
   "metadata": {},
   "outputs": [],
   "source": [
    "y_pred_xgb_under = XGB.predict(X_test)"
   ]
  },
  {
   "cell_type": "code",
   "execution_count": 127,
   "metadata": {},
   "outputs": [],
   "source": [
    "y_predxgb_proba_under = XGB.predict_proba(X_test)"
   ]
  },
  {
   "cell_type": "code",
   "execution_count": 128,
   "metadata": {},
   "outputs": [
    {
     "name": "stdout",
     "output_type": "stream",
     "text": [
      "Confusion matrix :\n",
      "[[83098  2198]\n",
      " [   15   132]]\n",
      "Classification report :\n",
      "              precision    recall  f1-score   support\n",
      "\n",
      "           0       1.00      0.97      0.99     85296\n",
      "           1       0.06      0.90      0.11       147\n",
      "\n",
      "   micro avg       0.97      0.97      0.97     85443\n",
      "   macro avg       0.53      0.94      0.55     85443\n",
      "weighted avg       1.00      0.97      0.99     85443\n",
      "\n",
      "Accuracy : 0.9740996921924557\n",
      "Area under the curve : 0.9360950485990683\n",
      "Area Under the Precision-Recall Curve (AUPRC): 0.7237806233718714\n"
     ]
    }
   ],
   "source": [
    "print(\"Confusion matrix :\")\n",
    "print(confusion_matrix(y_test, y_pred_xgb_under))\n",
    "print(\"Classification report :\")\n",
    "print(classification_report(y_test, y_pred_xgb_under))\n",
    "print(\"Accuracy :\",(accuracy_score(y_test, y_pred_xgb_under)))\n",
    "print(\"Area under the curve :\", (roc_auc_score(y_test, y_pred_xgb_under)))\n",
    "print(\"Area Under the Precision-Recall Curve (AUPRC):\", pr_auc_score(y_test, y_predxgb_proba_under))"
   ]
  },
  {
   "cell_type": "code",
   "execution_count": 129,
   "metadata": {},
   "outputs": [],
   "source": [
    "acc = accuracy_score(y_test, y_pred_xgb_under)\n",
    "prec = precision_score(y_test, y_pred_xgb_under)\n",
    "rec = recall_score(y_test, y_pred_xgb_under)\n",
    "f1 = f1_score(y_test, y_pred_xgb_under)\n",
    "auprc = pr_auc_score(y_test, y_predxgb_proba_under)"
   ]
  },
  {
   "cell_type": "code",
   "execution_count": 130,
   "metadata": {},
   "outputs": [],
   "source": [
    "model_results = pd.DataFrame([[\"Extreme Gradient Boost + Undersampled data\", acc, prec, rec, f1, auprc]],\n",
    "               columns = [\"Model\", \"Accuracy\", \"Precision\", \"Recall\", \"F1 Score\", \"Area Under the Precision-Recall Curve\"])"
   ]
  },
  {
   "cell_type": "code",
   "execution_count": 131,
   "metadata": {},
   "outputs": [],
   "source": [
    "results = results.append(model_results, ignore_index=True)"
   ]
  },
  {
   "cell_type": "code",
   "execution_count": 132,
   "metadata": {},
   "outputs": [
    {
     "data": {
      "text/html": [
       "<div>\n",
       "<style scoped>\n",
       "    .dataframe tbody tr th:only-of-type {\n",
       "        vertical-align: middle;\n",
       "    }\n",
       "\n",
       "    .dataframe tbody tr th {\n",
       "        vertical-align: top;\n",
       "    }\n",
       "\n",
       "    .dataframe thead th {\n",
       "        text-align: right;\n",
       "    }\n",
       "</style>\n",
       "<table border=\"1\" class=\"dataframe\">\n",
       "  <thead>\n",
       "    <tr style=\"text-align: right;\">\n",
       "      <th></th>\n",
       "      <th>Model</th>\n",
       "      <th>Accuracy</th>\n",
       "      <th>Precision</th>\n",
       "      <th>Recall</th>\n",
       "      <th>F1 Score</th>\n",
       "      <th>Area Under the Precision-Recall Curve</th>\n",
       "    </tr>\n",
       "  </thead>\n",
       "  <tbody>\n",
       "    <tr>\n",
       "      <th>0</th>\n",
       "      <td>Random Forest</td>\n",
       "      <td>0.999520</td>\n",
       "      <td>0.949153</td>\n",
       "      <td>0.761905</td>\n",
       "      <td>0.845283</td>\n",
       "      <td>0.843667</td>\n",
       "    </tr>\n",
       "    <tr>\n",
       "      <th>1</th>\n",
       "      <td>Gradient Boosting</td>\n",
       "      <td>0.999356</td>\n",
       "      <td>0.870968</td>\n",
       "      <td>0.734694</td>\n",
       "      <td>0.797048</td>\n",
       "      <td>0.708968</td>\n",
       "    </tr>\n",
       "    <tr>\n",
       "      <th>2</th>\n",
       "      <td>Extreme Gradient Boosting</td>\n",
       "      <td>0.999485</td>\n",
       "      <td>0.932773</td>\n",
       "      <td>0.755102</td>\n",
       "      <td>0.834586</td>\n",
       "      <td>0.842881</td>\n",
       "    </tr>\n",
       "    <tr>\n",
       "      <th>3</th>\n",
       "      <td>Random Forest Classifier + Undersampled data</td>\n",
       "      <td>0.984305</td>\n",
       "      <td>0.089409</td>\n",
       "      <td>0.884354</td>\n",
       "      <td>0.162399</td>\n",
       "      <td>0.770800</td>\n",
       "    </tr>\n",
       "    <tr>\n",
       "      <th>4</th>\n",
       "      <td>Gradient Boost + Undersampled data</td>\n",
       "      <td>0.977939</td>\n",
       "      <td>0.065500</td>\n",
       "      <td>0.891156</td>\n",
       "      <td>0.122031</td>\n",
       "      <td>0.697285</td>\n",
       "    </tr>\n",
       "    <tr>\n",
       "      <th>5</th>\n",
       "      <td>Extreme Gradient Boost + Undersampled data</td>\n",
       "      <td>0.974100</td>\n",
       "      <td>0.056652</td>\n",
       "      <td>0.897959</td>\n",
       "      <td>0.106581</td>\n",
       "      <td>0.723781</td>\n",
       "    </tr>\n",
       "  </tbody>\n",
       "</table>\n",
       "</div>"
      ],
      "text/plain": [
       "                                          Model  Accuracy  Precision  \\\n",
       "0                                 Random Forest  0.999520   0.949153   \n",
       "1                             Gradient Boosting  0.999356   0.870968   \n",
       "2                     Extreme Gradient Boosting  0.999485   0.932773   \n",
       "3  Random Forest Classifier + Undersampled data  0.984305   0.089409   \n",
       "4            Gradient Boost + Undersampled data  0.977939   0.065500   \n",
       "5    Extreme Gradient Boost + Undersampled data  0.974100   0.056652   \n",
       "\n",
       "     Recall  F1 Score  Area Under the Precision-Recall Curve  \n",
       "0  0.761905  0.845283                               0.843667  \n",
       "1  0.734694  0.797048                               0.708968  \n",
       "2  0.755102  0.834586                               0.842881  \n",
       "3  0.884354  0.162399                               0.770800  \n",
       "4  0.891156  0.122031                               0.697285  \n",
       "5  0.897959  0.106581                               0.723781  "
      ]
     },
     "execution_count": 132,
     "metadata": {},
     "output_type": "execute_result"
    }
   ],
   "source": [
    "results"
   ]
  },
  {
   "cell_type": "markdown",
   "metadata": {},
   "source": [
    "## Approach 2: Oversampling SMOTE (Synthetic Minority Over-sampling Technique)"
   ]
  },
  {
   "cell_type": "markdown",
   "metadata": {},
   "source": [
    "One popular way to deal with imbalanced data is by oversampling. To oversample means to artificially create observations in our data set belonging to the class that is under represented in our data."
   ]
  },
  {
   "cell_type": "markdown",
   "metadata": {},
   "source": [
    "One common technique is SMOTE — Synthetic Minority Over-sampling Technique. At a high level, SMOTE creates synthetic observations of the minority class (in this case, fraudulent transactions). At a lower level, SMOTE performs the following steps:\n",
    "\n",
    "* Finding the k-nearest-neighbors for minority class observations (finding similar observations)\n",
    "* Randomly choosing one of the k-nearest-neighbors and using it to create a similar, but randomly tweaked, new observations."
   ]
  },
  {
   "cell_type": "markdown",
   "metadata": {},
   "source": [
    "![](http://www.bossfinal.com/wp-content/uploads/2009/09/dj-hero-daft-punk_2.jpg)"
   ]
  },
  {
   "cell_type": "code",
   "execution_count": 71,
   "metadata": {},
   "outputs": [
    {
     "data": {
      "text/plain": [
       "0    199019\n",
       "1       345\n",
       "Name: Class, dtype: int64"
      ]
     },
     "execution_count": 71,
     "metadata": {},
     "output_type": "execute_result"
    }
   ],
   "source": [
    "y_train.value_counts()"
   ]
  },
  {
   "cell_type": "code",
   "execution_count": 72,
   "metadata": {},
   "outputs": [],
   "source": [
    "from imblearn.over_sampling import SMOTE"
   ]
  },
  {
   "cell_type": "code",
   "execution_count": 73,
   "metadata": {},
   "outputs": [],
   "source": [
    "smote_algo = SMOTE(random_state=0)\n",
    "X_train_res_over, y_train_res_over = smote_algo.fit_sample(X_train, y_train)"
   ]
  },
  {
   "cell_type": "code",
   "execution_count": 74,
   "metadata": {},
   "outputs": [],
   "source": [
    "X_train_res_over = pd.DataFrame(data=X_train_res_over, columns=X_train.columns)"
   ]
  },
  {
   "cell_type": "code",
   "execution_count": 75,
   "metadata": {},
   "outputs": [],
   "source": [
    "y_train_res_over = pd.DataFrame(data=y_train_res_over, columns=[\"Class\"])"
   ]
  },
  {
   "cell_type": "code",
   "execution_count": 76,
   "metadata": {},
   "outputs": [
    {
     "data": {
      "text/plain": [
       "1    199019\n",
       "0    199019\n",
       "Name: Class, dtype: int64"
      ]
     },
     "execution_count": 76,
     "metadata": {},
     "output_type": "execute_result"
    }
   ],
   "source": [
    "y_train_res_over.Class.value_counts()"
   ]
  },
  {
   "cell_type": "markdown",
   "metadata": {},
   "source": [
    "### Random Forest Classifier on oversampled data"
   ]
  },
  {
   "cell_type": "code",
   "execution_count": 140,
   "metadata": {},
   "outputs": [
    {
     "data": {
      "text/plain": [
       "RandomForestClassifier(bootstrap=True, class_weight=None, criterion='gini',\n",
       "            max_depth=None, max_features='auto', max_leaf_nodes=None,\n",
       "            min_impurity_decrease=0.0, min_impurity_split=None,\n",
       "            min_samples_leaf=1, min_samples_split=2,\n",
       "            min_weight_fraction_leaf=0.0, n_estimators=100, n_jobs=None,\n",
       "            oob_score=False, random_state=None, verbose=0,\n",
       "            warm_start=False)"
      ]
     },
     "execution_count": 140,
     "metadata": {},
     "output_type": "execute_result"
    }
   ],
   "source": [
    "rf = RandomForestClassifier(n_estimators = 100)\n",
    "rf.fit(X_train_res_over, y_train_res_over)"
   ]
  },
  {
   "cell_type": "code",
   "execution_count": 141,
   "metadata": {},
   "outputs": [],
   "source": [
    "y_pred_rf_over = rf.predict(X_test)"
   ]
  },
  {
   "cell_type": "code",
   "execution_count": 142,
   "metadata": {},
   "outputs": [],
   "source": [
    "y_predrf_proba_over = rf.predict_proba(X_test)"
   ]
  },
  {
   "cell_type": "code",
   "execution_count": 143,
   "metadata": {
    "scrolled": true
   },
   "outputs": [
    {
     "name": "stdout",
     "output_type": "stream",
     "text": [
      "Confusion matrix :\n",
      "[[85281    15]\n",
      " [   27   120]]\n",
      "Classification report :\n",
      "              precision    recall  f1-score   support\n",
      "\n",
      "           0       1.00      1.00      1.00     85296\n",
      "           1       0.89      0.82      0.85       147\n",
      "\n",
      "   micro avg       1.00      1.00      1.00     85443\n",
      "   macro avg       0.94      0.91      0.93     85443\n",
      "weighted avg       1.00      1.00      1.00     85443\n",
      "\n",
      "Accuracy : 0.9995084442259752\n",
      "Area under the curve : 0.9080753362121439\n",
      "Area Under the Precision-Recall Curve (AUPRC): 0.8476877672608756\n"
     ]
    }
   ],
   "source": [
    "print(\"Confusion matrix :\")\n",
    "print(confusion_matrix(y_test, y_pred_rf_over))\n",
    "print(\"Classification report :\")\n",
    "print(classification_report(y_test, y_pred_rf_over))\n",
    "print(\"Accuracy :\",(accuracy_score(y_test, y_pred_rf_over)))\n",
    "print(\"Area under the curve :\", (roc_auc_score(y_test, y_pred_rf_over)))\n",
    "print(\"Area Under the Precision-Recall Curve (AUPRC):\",  pr_auc_score(y_test, y_predrf_proba_over))"
   ]
  },
  {
   "cell_type": "code",
   "execution_count": 144,
   "metadata": {},
   "outputs": [],
   "source": [
    "acc = accuracy_score(y_test, y_pred_rf_over)\n",
    "prec = precision_score(y_test, y_pred_rf_over)\n",
    "rec = recall_score(y_test, y_pred_rf_over)\n",
    "f1 = f1_score(y_test, y_pred_rf_over)\n",
    "auprc = pr_auc_score(y_test, y_predrf_proba_over)"
   ]
  },
  {
   "cell_type": "code",
   "execution_count": 145,
   "metadata": {},
   "outputs": [],
   "source": [
    "model_results = pd.DataFrame([[\"Random Forest Classifier + SMOTE\", acc, prec, rec, f1, auprc]],\n",
    "               columns = [\"Model\", \"Accuracy\", \"Precision\", \"Recall\", \"F1 Score\", \"Area Under the Precision-Recall Curve\"])"
   ]
  },
  {
   "cell_type": "code",
   "execution_count": 146,
   "metadata": {},
   "outputs": [],
   "source": [
    "results = results.append(model_results, ignore_index=True)"
   ]
  },
  {
   "cell_type": "code",
   "execution_count": 147,
   "metadata": {},
   "outputs": [
    {
     "data": {
      "text/html": [
       "<div>\n",
       "<style scoped>\n",
       "    .dataframe tbody tr th:only-of-type {\n",
       "        vertical-align: middle;\n",
       "    }\n",
       "\n",
       "    .dataframe tbody tr th {\n",
       "        vertical-align: top;\n",
       "    }\n",
       "\n",
       "    .dataframe thead th {\n",
       "        text-align: right;\n",
       "    }\n",
       "</style>\n",
       "<table border=\"1\" class=\"dataframe\">\n",
       "  <thead>\n",
       "    <tr style=\"text-align: right;\">\n",
       "      <th></th>\n",
       "      <th>Model</th>\n",
       "      <th>Accuracy</th>\n",
       "      <th>Precision</th>\n",
       "      <th>Recall</th>\n",
       "      <th>F1 Score</th>\n",
       "      <th>Area Under the Precision-Recall Curve</th>\n",
       "    </tr>\n",
       "  </thead>\n",
       "  <tbody>\n",
       "    <tr>\n",
       "      <th>0</th>\n",
       "      <td>Random Forest</td>\n",
       "      <td>0.999520</td>\n",
       "      <td>0.949153</td>\n",
       "      <td>0.761905</td>\n",
       "      <td>0.845283</td>\n",
       "      <td>0.843667</td>\n",
       "    </tr>\n",
       "    <tr>\n",
       "      <th>1</th>\n",
       "      <td>Gradient Boosting</td>\n",
       "      <td>0.999356</td>\n",
       "      <td>0.870968</td>\n",
       "      <td>0.734694</td>\n",
       "      <td>0.797048</td>\n",
       "      <td>0.708968</td>\n",
       "    </tr>\n",
       "    <tr>\n",
       "      <th>2</th>\n",
       "      <td>Extreme Gradient Boosting</td>\n",
       "      <td>0.999485</td>\n",
       "      <td>0.932773</td>\n",
       "      <td>0.755102</td>\n",
       "      <td>0.834586</td>\n",
       "      <td>0.842881</td>\n",
       "    </tr>\n",
       "    <tr>\n",
       "      <th>3</th>\n",
       "      <td>Random Forest Classifier + Undersampled data</td>\n",
       "      <td>0.984305</td>\n",
       "      <td>0.089409</td>\n",
       "      <td>0.884354</td>\n",
       "      <td>0.162399</td>\n",
       "      <td>0.770800</td>\n",
       "    </tr>\n",
       "    <tr>\n",
       "      <th>4</th>\n",
       "      <td>Gradient Boost + Undersampled data</td>\n",
       "      <td>0.977939</td>\n",
       "      <td>0.065500</td>\n",
       "      <td>0.891156</td>\n",
       "      <td>0.122031</td>\n",
       "      <td>0.697285</td>\n",
       "    </tr>\n",
       "    <tr>\n",
       "      <th>5</th>\n",
       "      <td>Extreme Gradient Boost + Undersampled data</td>\n",
       "      <td>0.974100</td>\n",
       "      <td>0.056652</td>\n",
       "      <td>0.897959</td>\n",
       "      <td>0.106581</td>\n",
       "      <td>0.723781</td>\n",
       "    </tr>\n",
       "    <tr>\n",
       "      <th>6</th>\n",
       "      <td>Random Forest Classifier + SMOTE</td>\n",
       "      <td>0.999508</td>\n",
       "      <td>0.888889</td>\n",
       "      <td>0.816327</td>\n",
       "      <td>0.851064</td>\n",
       "      <td>0.847688</td>\n",
       "    </tr>\n",
       "  </tbody>\n",
       "</table>\n",
       "</div>"
      ],
      "text/plain": [
       "                                          Model  Accuracy  Precision  \\\n",
       "0                                 Random Forest  0.999520   0.949153   \n",
       "1                             Gradient Boosting  0.999356   0.870968   \n",
       "2                     Extreme Gradient Boosting  0.999485   0.932773   \n",
       "3  Random Forest Classifier + Undersampled data  0.984305   0.089409   \n",
       "4            Gradient Boost + Undersampled data  0.977939   0.065500   \n",
       "5    Extreme Gradient Boost + Undersampled data  0.974100   0.056652   \n",
       "6              Random Forest Classifier + SMOTE  0.999508   0.888889   \n",
       "\n",
       "     Recall  F1 Score  Area Under the Precision-Recall Curve  \n",
       "0  0.761905  0.845283                               0.843667  \n",
       "1  0.734694  0.797048                               0.708968  \n",
       "2  0.755102  0.834586                               0.842881  \n",
       "3  0.884354  0.162399                               0.770800  \n",
       "4  0.891156  0.122031                               0.697285  \n",
       "5  0.897959  0.106581                               0.723781  \n",
       "6  0.816327  0.851064                               0.847688  "
      ]
     },
     "execution_count": 147,
     "metadata": {},
     "output_type": "execute_result"
    }
   ],
   "source": [
    "results"
   ]
  },
  {
   "cell_type": "markdown",
   "metadata": {},
   "source": [
    "### Gradient Boost Algorithm on oversampled data"
   ]
  },
  {
   "cell_type": "code",
   "execution_count": 148,
   "metadata": {},
   "outputs": [],
   "source": [
    "GB = GradientBoostingClassifier(n_estimators=500, max_depth=3, subsample=0.5, \n",
    "                                learning_rate=0.01, min_samples_leaf=1, random_state=3)"
   ]
  },
  {
   "cell_type": "code",
   "execution_count": 149,
   "metadata": {},
   "outputs": [
    {
     "data": {
      "text/plain": [
       "GradientBoostingClassifier(criterion='friedman_mse', init=None,\n",
       "              learning_rate=0.01, loss='deviance', max_depth=3,\n",
       "              max_features=None, max_leaf_nodes=None,\n",
       "              min_impurity_decrease=0.0, min_impurity_split=None,\n",
       "              min_samples_leaf=1, min_samples_split=2,\n",
       "              min_weight_fraction_leaf=0.0, n_estimators=500,\n",
       "              n_iter_no_change=None, presort='auto', random_state=3,\n",
       "              subsample=0.5, tol=0.0001, validation_fraction=0.1,\n",
       "              verbose=0, warm_start=False)"
      ]
     },
     "execution_count": 149,
     "metadata": {},
     "output_type": "execute_result"
    }
   ],
   "source": [
    "GB.fit(X_train_res_over, y_train_res_over)"
   ]
  },
  {
   "cell_type": "code",
   "execution_count": 150,
   "metadata": {},
   "outputs": [],
   "source": [
    "y_pred_gb_over = GB.predict(X_test)"
   ]
  },
  {
   "cell_type": "code",
   "execution_count": 151,
   "metadata": {},
   "outputs": [],
   "source": [
    "y_predgb_proba_over = GB.predict_proba(X_test)"
   ]
  },
  {
   "cell_type": "code",
   "execution_count": 152,
   "metadata": {},
   "outputs": [
    {
     "name": "stdout",
     "output_type": "stream",
     "text": [
      "Confusion matrix :\n",
      "[[84642   654]\n",
      " [   20   127]]\n",
      "Classification report :\n",
      "              precision    recall  f1-score   support\n",
      "\n",
      "           0       1.00      0.99      1.00     85296\n",
      "           1       0.16      0.86      0.27       147\n",
      "\n",
      "   micro avg       0.99      0.99      0.99     85443\n",
      "   macro avg       0.58      0.93      0.63     85443\n",
      "weighted avg       1.00      0.99      0.99     85443\n",
      "\n",
      "Accuracy : 0.9921117001977927\n",
      "Area under the curve : 0.9281390806181784\n",
      "Area Under the Precision-Recall Curve (AUPRC): 0.8023699235778079\n"
     ]
    }
   ],
   "source": [
    "print(\"Confusion matrix :\")\n",
    "print(confusion_matrix(y_test, y_pred_gb_over))\n",
    "print(\"Classification report :\")\n",
    "print(classification_report(y_test, y_pred_gb_over))\n",
    "print(\"Accuracy :\",(accuracy_score(y_test, y_pred_gb_over)))\n",
    "print(\"Area under the curve :\", (roc_auc_score(y_test, y_pred_gb_over)))\n",
    "print(\"Area Under the Precision-Recall Curve (AUPRC):\", pr_auc_score(y_test, y_predgb_proba_over))"
   ]
  },
  {
   "cell_type": "code",
   "execution_count": 153,
   "metadata": {},
   "outputs": [],
   "source": [
    "acc = accuracy_score(y_test, y_pred_gb_over)\n",
    "prec = precision_score(y_test, y_pred_gb_over)\n",
    "rec = recall_score(y_test, y_pred_gb_over)\n",
    "f1 = f1_score(y_test, y_pred_gb_over)\n",
    "auprc = pr_auc_score(y_test, y_predgb_proba_over)"
   ]
  },
  {
   "cell_type": "code",
   "execution_count": 154,
   "metadata": {},
   "outputs": [],
   "source": [
    "model_results = pd.DataFrame([[\"Gradient Boost + SMOTE\", acc, prec, rec, f1, auprc]],\n",
    "               columns = [\"Model\", \"Accuracy\", \"Precision\", \"Recall\", \"F1 Score\", \"Area Under the Precision-Recall Curve\"])"
   ]
  },
  {
   "cell_type": "code",
   "execution_count": 155,
   "metadata": {},
   "outputs": [],
   "source": [
    "results = results.append(model_results, ignore_index=True)"
   ]
  },
  {
   "cell_type": "code",
   "execution_count": 156,
   "metadata": {},
   "outputs": [
    {
     "data": {
      "text/html": [
       "<div>\n",
       "<style scoped>\n",
       "    .dataframe tbody tr th:only-of-type {\n",
       "        vertical-align: middle;\n",
       "    }\n",
       "\n",
       "    .dataframe tbody tr th {\n",
       "        vertical-align: top;\n",
       "    }\n",
       "\n",
       "    .dataframe thead th {\n",
       "        text-align: right;\n",
       "    }\n",
       "</style>\n",
       "<table border=\"1\" class=\"dataframe\">\n",
       "  <thead>\n",
       "    <tr style=\"text-align: right;\">\n",
       "      <th></th>\n",
       "      <th>Model</th>\n",
       "      <th>Accuracy</th>\n",
       "      <th>Precision</th>\n",
       "      <th>Recall</th>\n",
       "      <th>F1 Score</th>\n",
       "      <th>Area Under the Precision-Recall Curve</th>\n",
       "    </tr>\n",
       "  </thead>\n",
       "  <tbody>\n",
       "    <tr>\n",
       "      <th>0</th>\n",
       "      <td>Random Forest</td>\n",
       "      <td>0.999520</td>\n",
       "      <td>0.949153</td>\n",
       "      <td>0.761905</td>\n",
       "      <td>0.845283</td>\n",
       "      <td>0.843667</td>\n",
       "    </tr>\n",
       "    <tr>\n",
       "      <th>1</th>\n",
       "      <td>Gradient Boosting</td>\n",
       "      <td>0.999356</td>\n",
       "      <td>0.870968</td>\n",
       "      <td>0.734694</td>\n",
       "      <td>0.797048</td>\n",
       "      <td>0.708968</td>\n",
       "    </tr>\n",
       "    <tr>\n",
       "      <th>2</th>\n",
       "      <td>Extreme Gradient Boosting</td>\n",
       "      <td>0.999485</td>\n",
       "      <td>0.932773</td>\n",
       "      <td>0.755102</td>\n",
       "      <td>0.834586</td>\n",
       "      <td>0.842881</td>\n",
       "    </tr>\n",
       "    <tr>\n",
       "      <th>3</th>\n",
       "      <td>Random Forest Classifier + Undersampled data</td>\n",
       "      <td>0.984305</td>\n",
       "      <td>0.089409</td>\n",
       "      <td>0.884354</td>\n",
       "      <td>0.162399</td>\n",
       "      <td>0.770800</td>\n",
       "    </tr>\n",
       "    <tr>\n",
       "      <th>4</th>\n",
       "      <td>Gradient Boost + Undersampled data</td>\n",
       "      <td>0.977939</td>\n",
       "      <td>0.065500</td>\n",
       "      <td>0.891156</td>\n",
       "      <td>0.122031</td>\n",
       "      <td>0.697285</td>\n",
       "    </tr>\n",
       "    <tr>\n",
       "      <th>5</th>\n",
       "      <td>Extreme Gradient Boost + Undersampled data</td>\n",
       "      <td>0.974100</td>\n",
       "      <td>0.056652</td>\n",
       "      <td>0.897959</td>\n",
       "      <td>0.106581</td>\n",
       "      <td>0.723781</td>\n",
       "    </tr>\n",
       "    <tr>\n",
       "      <th>6</th>\n",
       "      <td>Random Forest Classifier + SMOTE</td>\n",
       "      <td>0.999508</td>\n",
       "      <td>0.888889</td>\n",
       "      <td>0.816327</td>\n",
       "      <td>0.851064</td>\n",
       "      <td>0.847688</td>\n",
       "    </tr>\n",
       "    <tr>\n",
       "      <th>7</th>\n",
       "      <td>Gradient Boost + SMOTE</td>\n",
       "      <td>0.992112</td>\n",
       "      <td>0.162612</td>\n",
       "      <td>0.863946</td>\n",
       "      <td>0.273707</td>\n",
       "      <td>0.802370</td>\n",
       "    </tr>\n",
       "  </tbody>\n",
       "</table>\n",
       "</div>"
      ],
      "text/plain": [
       "                                          Model  Accuracy  Precision  \\\n",
       "0                                 Random Forest  0.999520   0.949153   \n",
       "1                             Gradient Boosting  0.999356   0.870968   \n",
       "2                     Extreme Gradient Boosting  0.999485   0.932773   \n",
       "3  Random Forest Classifier + Undersampled data  0.984305   0.089409   \n",
       "4            Gradient Boost + Undersampled data  0.977939   0.065500   \n",
       "5    Extreme Gradient Boost + Undersampled data  0.974100   0.056652   \n",
       "6              Random Forest Classifier + SMOTE  0.999508   0.888889   \n",
       "7                        Gradient Boost + SMOTE  0.992112   0.162612   \n",
       "\n",
       "     Recall  F1 Score  Area Under the Precision-Recall Curve  \n",
       "0  0.761905  0.845283                               0.843667  \n",
       "1  0.734694  0.797048                               0.708968  \n",
       "2  0.755102  0.834586                               0.842881  \n",
       "3  0.884354  0.162399                               0.770800  \n",
       "4  0.891156  0.122031                               0.697285  \n",
       "5  0.897959  0.106581                               0.723781  \n",
       "6  0.816327  0.851064                               0.847688  \n",
       "7  0.863946  0.273707                               0.802370  "
      ]
     },
     "execution_count": 156,
     "metadata": {},
     "output_type": "execute_result"
    }
   ],
   "source": [
    "results"
   ]
  },
  {
   "cell_type": "markdown",
   "metadata": {},
   "source": [
    "### Extreme Gradient Boost Algorithm on oversampled data"
   ]
  },
  {
   "cell_type": "code",
   "execution_count": 157,
   "metadata": {},
   "outputs": [
    {
     "name": "stdout",
     "output_type": "stream",
     "text": [
      "{'base_score': 0.5, 'booster': 'gbtree', 'colsample_bylevel': 1, 'colsample_bytree': 1, 'gamma': 0, 'learning_rate': 0.1, 'max_delta_step': 0, 'max_depth': 3, 'min_child_weight': 1, 'missing': None, 'n_estimators': 100, 'nthread': 1, 'objective': 'binary:logistic', 'reg_alpha': 0, 'reg_lambda': 1, 'scale_pos_weight': 1, 'seed': 0, 'silent': 1, 'subsample': 1}\n"
     ]
    }
   ],
   "source": [
    "XGB = XGBClassifier()\n",
    "print(XGB.get_xgb_params())"
   ]
  },
  {
   "cell_type": "code",
   "execution_count": 158,
   "metadata": {},
   "outputs": [
    {
     "name": "stdout",
     "output_type": "stream",
     "text": [
      "[0]\tvalidation_0-aucpr:0.98524\tvalidation_1-aucpr:0.240759\n",
      "[1]\tvalidation_0-aucpr:0.986856\tvalidation_1-aucpr:0.302523\n",
      "[2]\tvalidation_0-aucpr:0.987032\tvalidation_1-aucpr:0.316935\n",
      "[3]\tvalidation_0-aucpr:0.990238\tvalidation_1-aucpr:0.318055\n",
      "[4]\tvalidation_0-aucpr:0.992574\tvalidation_1-aucpr:0.402499\n",
      "[5]\tvalidation_0-aucpr:0.99272\tvalidation_1-aucpr:0.40491\n",
      "[6]\tvalidation_0-aucpr:0.993062\tvalidation_1-aucpr:0.451505\n",
      "[7]\tvalidation_0-aucpr:0.993458\tvalidation_1-aucpr:0.485407\n",
      "[8]\tvalidation_0-aucpr:0.99376\tvalidation_1-aucpr:0.485274\n",
      "[9]\tvalidation_0-aucpr:0.994495\tvalidation_1-aucpr:0.668675\n",
      "[10]\tvalidation_0-aucpr:0.994629\tvalidation_1-aucpr:0.669546\n",
      "[11]\tvalidation_0-aucpr:0.994751\tvalidation_1-aucpr:0.669754\n",
      "[12]\tvalidation_0-aucpr:0.995431\tvalidation_1-aucpr:0.670331\n",
      "[13]\tvalidation_0-aucpr:0.995529\tvalidation_1-aucpr:0.674172\n",
      "[14]\tvalidation_0-aucpr:0.995714\tvalidation_1-aucpr:0.679525\n",
      "[15]\tvalidation_0-aucpr:0.995787\tvalidation_1-aucpr:0.682977\n",
      "[16]\tvalidation_0-aucpr:0.995842\tvalidation_1-aucpr:0.689136\n",
      "[17]\tvalidation_0-aucpr:0.99599\tvalidation_1-aucpr:0.695155\n",
      "[18]\tvalidation_0-aucpr:0.996059\tvalidation_1-aucpr:0.69647\n",
      "[19]\tvalidation_0-aucpr:0.996274\tvalidation_1-aucpr:0.734169\n",
      "[20]\tvalidation_0-aucpr:0.996354\tvalidation_1-aucpr:0.734166\n",
      "[21]\tvalidation_0-aucpr:0.996492\tvalidation_1-aucpr:0.744036\n",
      "[22]\tvalidation_0-aucpr:0.996683\tvalidation_1-aucpr:0.743263\n",
      "[23]\tvalidation_0-aucpr:0.996688\tvalidation_1-aucpr:0.742612\n",
      "[24]\tvalidation_0-aucpr:0.996736\tvalidation_1-aucpr:0.742997\n",
      "[25]\tvalidation_0-aucpr:0.996821\tvalidation_1-aucpr:0.742388\n",
      "[26]\tvalidation_0-aucpr:0.996872\tvalidation_1-aucpr:0.743152\n",
      "[27]\tvalidation_0-aucpr:0.996923\tvalidation_1-aucpr:0.744024\n",
      "[28]\tvalidation_0-aucpr:0.997071\tvalidation_1-aucpr:0.743276\n",
      "[29]\tvalidation_0-aucpr:0.997119\tvalidation_1-aucpr:0.743842\n",
      "[30]\tvalidation_0-aucpr:0.997182\tvalidation_1-aucpr:0.744337\n",
      "[31]\tvalidation_0-aucpr:0.997282\tvalidation_1-aucpr:0.743979\n",
      "[32]\tvalidation_0-aucpr:0.99731\tvalidation_1-aucpr:0.74467\n",
      "[33]\tvalidation_0-aucpr:0.997382\tvalidation_1-aucpr:0.74452\n",
      "[34]\tvalidation_0-aucpr:0.997459\tvalidation_1-aucpr:0.744483\n",
      "[35]\tvalidation_0-aucpr:0.99758\tvalidation_1-aucpr:0.750991\n",
      "[36]\tvalidation_0-aucpr:0.997701\tvalidation_1-aucpr:0.751123\n",
      "[37]\tvalidation_0-aucpr:0.997771\tvalidation_1-aucpr:0.751302\n",
      "[38]\tvalidation_0-aucpr:0.997849\tvalidation_1-aucpr:0.751768\n",
      "[39]\tvalidation_0-aucpr:0.997915\tvalidation_1-aucpr:0.751824\n",
      "[40]\tvalidation_0-aucpr:0.997982\tvalidation_1-aucpr:0.752123\n",
      "[41]\tvalidation_0-aucpr:0.998041\tvalidation_1-aucpr:0.754949\n",
      "[42]\tvalidation_0-aucpr:0.998141\tvalidation_1-aucpr:0.755232\n",
      "[43]\tvalidation_0-aucpr:0.998261\tvalidation_1-aucpr:0.755363\n",
      "[44]\tvalidation_0-aucpr:0.998299\tvalidation_1-aucpr:0.739346\n",
      "[45]\tvalidation_0-aucpr:0.998342\tvalidation_1-aucpr:0.739528\n",
      "[46]\tvalidation_0-aucpr:0.998401\tvalidation_1-aucpr:0.71607\n",
      "[47]\tvalidation_0-aucpr:0.998537\tvalidation_1-aucpr:0.756552\n",
      "[48]\tvalidation_0-aucpr:0.998569\tvalidation_1-aucpr:0.742403\n",
      "[49]\tvalidation_0-aucpr:0.998622\tvalidation_1-aucpr:0.741137\n",
      "[50]\tvalidation_0-aucpr:0.998663\tvalidation_1-aucpr:0.741591\n",
      "[51]\tvalidation_0-aucpr:0.998691\tvalidation_1-aucpr:0.74124\n",
      "[52]\tvalidation_0-aucpr:0.998729\tvalidation_1-aucpr:0.741147\n",
      "[53]\tvalidation_0-aucpr:0.998793\tvalidation_1-aucpr:0.755762\n",
      "[54]\tvalidation_0-aucpr:0.998834\tvalidation_1-aucpr:0.755965\n",
      "[55]\tvalidation_0-aucpr:0.998856\tvalidation_1-aucpr:0.753618\n",
      "[56]\tvalidation_0-aucpr:0.998884\tvalidation_1-aucpr:0.743178\n",
      "[57]\tvalidation_0-aucpr:0.998993\tvalidation_1-aucpr:0.766006\n",
      "[58]\tvalidation_0-aucpr:0.999018\tvalidation_1-aucpr:0.766385\n",
      "[59]\tvalidation_0-aucpr:0.999051\tvalidation_1-aucpr:0.7673\n",
      "[60]\tvalidation_0-aucpr:0.999071\tvalidation_1-aucpr:0.766657\n",
      "[61]\tvalidation_0-aucpr:0.999107\tvalidation_1-aucpr:0.759085\n",
      "[62]\tvalidation_0-aucpr:0.999111\tvalidation_1-aucpr:0.745741\n",
      "[63]\tvalidation_0-aucpr:0.999139\tvalidation_1-aucpr:0.745672\n",
      "[64]\tvalidation_0-aucpr:0.999161\tvalidation_1-aucpr:0.747376\n",
      "[65]\tvalidation_0-aucpr:0.999183\tvalidation_1-aucpr:0.745033\n",
      "[66]\tvalidation_0-aucpr:0.999228\tvalidation_1-aucpr:0.737697\n",
      "[67]\tvalidation_0-aucpr:0.999247\tvalidation_1-aucpr:0.730928\n",
      "[68]\tvalidation_0-aucpr:0.99927\tvalidation_1-aucpr:0.728853\n",
      "[69]\tvalidation_0-aucpr:0.999306\tvalidation_1-aucpr:0.729114\n",
      "[70]\tvalidation_0-aucpr:0.999327\tvalidation_1-aucpr:0.728979\n",
      "[71]\tvalidation_0-aucpr:0.999366\tvalidation_1-aucpr:0.733262\n",
      "[72]\tvalidation_0-aucpr:0.999389\tvalidation_1-aucpr:0.729253\n",
      "[73]\tvalidation_0-aucpr:0.999405\tvalidation_1-aucpr:0.735593\n",
      "[74]\tvalidation_0-aucpr:0.99941\tvalidation_1-aucpr:0.735285\n",
      "[75]\tvalidation_0-aucpr:0.999425\tvalidation_1-aucpr:0.735984\n",
      "[76]\tvalidation_0-aucpr:0.999432\tvalidation_1-aucpr:0.728474\n",
      "[77]\tvalidation_0-aucpr:0.999445\tvalidation_1-aucpr:0.728911\n",
      "[78]\tvalidation_0-aucpr:0.999465\tvalidation_1-aucpr:0.738518\n",
      "[79]\tvalidation_0-aucpr:0.999476\tvalidation_1-aucpr:0.737929\n",
      "[80]\tvalidation_0-aucpr:0.999498\tvalidation_1-aucpr:0.74219\n",
      "[81]\tvalidation_0-aucpr:0.999502\tvalidation_1-aucpr:0.733719\n",
      "[82]\tvalidation_0-aucpr:0.999517\tvalidation_1-aucpr:0.734289\n",
      "[83]\tvalidation_0-aucpr:0.999533\tvalidation_1-aucpr:0.73454\n",
      "[84]\tvalidation_0-aucpr:0.999547\tvalidation_1-aucpr:0.734222\n",
      "[85]\tvalidation_0-aucpr:0.999564\tvalidation_1-aucpr:0.732256\n",
      "[86]\tvalidation_0-aucpr:0.999571\tvalidation_1-aucpr:0.7355\n",
      "[87]\tvalidation_0-aucpr:0.999578\tvalidation_1-aucpr:0.735517\n",
      "[88]\tvalidation_0-aucpr:0.999589\tvalidation_1-aucpr:0.73579\n",
      "[89]\tvalidation_0-aucpr:0.999596\tvalidation_1-aucpr:0.734038\n",
      "[90]\tvalidation_0-aucpr:0.999604\tvalidation_1-aucpr:0.734185\n",
      "[91]\tvalidation_0-aucpr:0.999612\tvalidation_1-aucpr:0.733544\n",
      "[92]\tvalidation_0-aucpr:0.999616\tvalidation_1-aucpr:0.732876\n",
      "[93]\tvalidation_0-aucpr:0.999626\tvalidation_1-aucpr:0.732916\n",
      "[94]\tvalidation_0-aucpr:0.99964\tvalidation_1-aucpr:0.733568\n",
      "[95]\tvalidation_0-aucpr:0.999647\tvalidation_1-aucpr:0.73327\n",
      "[96]\tvalidation_0-aucpr:0.999659\tvalidation_1-aucpr:0.734824\n",
      "[97]\tvalidation_0-aucpr:0.999674\tvalidation_1-aucpr:0.737597\n",
      "[98]\tvalidation_0-aucpr:0.999676\tvalidation_1-aucpr:0.736772\n",
      "[99]\tvalidation_0-aucpr:0.999681\tvalidation_1-aucpr:0.736546\n"
     ]
    },
    {
     "data": {
      "text/plain": [
       "XGBClassifier(base_score=0.5, booster='gbtree', colsample_bylevel=1,\n",
       "       colsample_bytree=1, gamma=0, learning_rate=0.1, max_delta_step=0,\n",
       "       max_depth=3, min_child_weight=1, missing=None, n_estimators=100,\n",
       "       n_jobs=1, nthread=None, objective='binary:logistic', random_state=0,\n",
       "       reg_alpha=0, reg_lambda=1, scale_pos_weight=1, seed=None,\n",
       "       silent=True, subsample=1)"
      ]
     },
     "execution_count": 158,
     "metadata": {},
     "output_type": "execute_result"
    }
   ],
   "source": [
    "XGB.fit(X_train_res_over, y_train_res_over, eval_metric=[\"aucpr\"], eval_set=[((X_train_res_over, y_train_res_over)),(X_test, y_test)])"
   ]
  },
  {
   "cell_type": "code",
   "execution_count": 159,
   "metadata": {},
   "outputs": [],
   "source": [
    "y_pred_xgb_over = XGB.predict(X_test)"
   ]
  },
  {
   "cell_type": "code",
   "execution_count": 160,
   "metadata": {},
   "outputs": [],
   "source": [
    "y_predxgb_proba_over = XGB.predict_proba(X_test)"
   ]
  },
  {
   "cell_type": "code",
   "execution_count": 161,
   "metadata": {},
   "outputs": [
    {
     "name": "stdout",
     "output_type": "stream",
     "text": [
      "Confusion matrix :\n",
      "[[84953   343]\n",
      " [   19   128]]\n",
      "Classification report :\n",
      "              precision    recall  f1-score   support\n",
      "\n",
      "           0       1.00      1.00      1.00     85296\n",
      "           1       0.27      0.87      0.41       147\n",
      "\n",
      "   micro avg       1.00      1.00      1.00     85443\n",
      "   macro avg       0.64      0.93      0.71     85443\n",
      "weighted avg       1.00      1.00      1.00     85443\n",
      "\n",
      "Accuracy : 0.9957632573762626\n",
      "Area under the curve : 0.9333635043775531\n",
      "Area Under the Precision-Recall Curve (AUPRC): 0.735761855591992\n"
     ]
    }
   ],
   "source": [
    "print(\"Confusion matrix :\")\n",
    "print(confusion_matrix(y_test, y_pred_xgb_over))\n",
    "print(\"Classification report :\")\n",
    "print(classification_report(y_test, y_pred_xgb_over))\n",
    "print(\"Accuracy :\",(accuracy_score(y_test, y_pred_xgb_over)))\n",
    "print(\"Area under the curve :\", (roc_auc_score(y_test, y_pred_xgb_over)))\n",
    "print(\"Area Under the Precision-Recall Curve (AUPRC):\", pr_auc_score(y_test, y_predxgb_proba_over))"
   ]
  },
  {
   "cell_type": "code",
   "execution_count": 162,
   "metadata": {},
   "outputs": [],
   "source": [
    "acc = accuracy_score(y_test, y_pred_xgb_over)\n",
    "prec = precision_score(y_test, y_pred_xgb_over)\n",
    "rec = recall_score(y_test, y_pred_xgb_over)\n",
    "f1 = f1_score(y_test, y_pred_xgb_over)\n",
    "auprc = pr_auc_score(y_test, y_predxgb_proba_over)"
   ]
  },
  {
   "cell_type": "code",
   "execution_count": 163,
   "metadata": {},
   "outputs": [],
   "source": [
    "model_results = pd.DataFrame([[\"Extreme Gradient Boost + SMOTE\", acc, prec, rec, f1, auprc]],\n",
    "               columns = [\"Model\", \"Accuracy\", \"Precision\", \"Recall\", \"F1 Score\", \"Area Under the Precision-Recall Curve\"])"
   ]
  },
  {
   "cell_type": "code",
   "execution_count": 164,
   "metadata": {},
   "outputs": [],
   "source": [
    "results = results.append(model_results, ignore_index=True)"
   ]
  },
  {
   "cell_type": "code",
   "execution_count": 165,
   "metadata": {},
   "outputs": [
    {
     "data": {
      "text/html": [
       "<div>\n",
       "<style scoped>\n",
       "    .dataframe tbody tr th:only-of-type {\n",
       "        vertical-align: middle;\n",
       "    }\n",
       "\n",
       "    .dataframe tbody tr th {\n",
       "        vertical-align: top;\n",
       "    }\n",
       "\n",
       "    .dataframe thead th {\n",
       "        text-align: right;\n",
       "    }\n",
       "</style>\n",
       "<table border=\"1\" class=\"dataframe\">\n",
       "  <thead>\n",
       "    <tr style=\"text-align: right;\">\n",
       "      <th></th>\n",
       "      <th>Model</th>\n",
       "      <th>Accuracy</th>\n",
       "      <th>Precision</th>\n",
       "      <th>Recall</th>\n",
       "      <th>F1 Score</th>\n",
       "      <th>Area Under the Precision-Recall Curve</th>\n",
       "    </tr>\n",
       "  </thead>\n",
       "  <tbody>\n",
       "    <tr>\n",
       "      <th>0</th>\n",
       "      <td>Random Forest</td>\n",
       "      <td>0.999520</td>\n",
       "      <td>0.949153</td>\n",
       "      <td>0.761905</td>\n",
       "      <td>0.845283</td>\n",
       "      <td>0.843667</td>\n",
       "    </tr>\n",
       "    <tr>\n",
       "      <th>1</th>\n",
       "      <td>Gradient Boosting</td>\n",
       "      <td>0.999356</td>\n",
       "      <td>0.870968</td>\n",
       "      <td>0.734694</td>\n",
       "      <td>0.797048</td>\n",
       "      <td>0.708968</td>\n",
       "    </tr>\n",
       "    <tr>\n",
       "      <th>2</th>\n",
       "      <td>Extreme Gradient Boosting</td>\n",
       "      <td>0.999485</td>\n",
       "      <td>0.932773</td>\n",
       "      <td>0.755102</td>\n",
       "      <td>0.834586</td>\n",
       "      <td>0.842881</td>\n",
       "    </tr>\n",
       "    <tr>\n",
       "      <th>3</th>\n",
       "      <td>Random Forest Classifier + Undersampled data</td>\n",
       "      <td>0.984305</td>\n",
       "      <td>0.089409</td>\n",
       "      <td>0.884354</td>\n",
       "      <td>0.162399</td>\n",
       "      <td>0.770800</td>\n",
       "    </tr>\n",
       "    <tr>\n",
       "      <th>4</th>\n",
       "      <td>Gradient Boost + Undersampled data</td>\n",
       "      <td>0.977939</td>\n",
       "      <td>0.065500</td>\n",
       "      <td>0.891156</td>\n",
       "      <td>0.122031</td>\n",
       "      <td>0.697285</td>\n",
       "    </tr>\n",
       "    <tr>\n",
       "      <th>5</th>\n",
       "      <td>Extreme Gradient Boost + Undersampled data</td>\n",
       "      <td>0.974100</td>\n",
       "      <td>0.056652</td>\n",
       "      <td>0.897959</td>\n",
       "      <td>0.106581</td>\n",
       "      <td>0.723781</td>\n",
       "    </tr>\n",
       "    <tr>\n",
       "      <th>6</th>\n",
       "      <td>Random Forest Classifier + SMOTE</td>\n",
       "      <td>0.999508</td>\n",
       "      <td>0.888889</td>\n",
       "      <td>0.816327</td>\n",
       "      <td>0.851064</td>\n",
       "      <td>0.847688</td>\n",
       "    </tr>\n",
       "    <tr>\n",
       "      <th>7</th>\n",
       "      <td>Gradient Boost + SMOTE</td>\n",
       "      <td>0.992112</td>\n",
       "      <td>0.162612</td>\n",
       "      <td>0.863946</td>\n",
       "      <td>0.273707</td>\n",
       "      <td>0.802370</td>\n",
       "    </tr>\n",
       "    <tr>\n",
       "      <th>8</th>\n",
       "      <td>Extreme Gradient Boost + SMOTE</td>\n",
       "      <td>0.995763</td>\n",
       "      <td>0.271762</td>\n",
       "      <td>0.870748</td>\n",
       "      <td>0.414239</td>\n",
       "      <td>0.735762</td>\n",
       "    </tr>\n",
       "  </tbody>\n",
       "</table>\n",
       "</div>"
      ],
      "text/plain": [
       "                                          Model  Accuracy  Precision  \\\n",
       "0                                 Random Forest  0.999520   0.949153   \n",
       "1                             Gradient Boosting  0.999356   0.870968   \n",
       "2                     Extreme Gradient Boosting  0.999485   0.932773   \n",
       "3  Random Forest Classifier + Undersampled data  0.984305   0.089409   \n",
       "4            Gradient Boost + Undersampled data  0.977939   0.065500   \n",
       "5    Extreme Gradient Boost + Undersampled data  0.974100   0.056652   \n",
       "6              Random Forest Classifier + SMOTE  0.999508   0.888889   \n",
       "7                        Gradient Boost + SMOTE  0.992112   0.162612   \n",
       "8                Extreme Gradient Boost + SMOTE  0.995763   0.271762   \n",
       "\n",
       "     Recall  F1 Score  Area Under the Precision-Recall Curve  \n",
       "0  0.761905  0.845283                               0.843667  \n",
       "1  0.734694  0.797048                               0.708968  \n",
       "2  0.755102  0.834586                               0.842881  \n",
       "3  0.884354  0.162399                               0.770800  \n",
       "4  0.891156  0.122031                               0.697285  \n",
       "5  0.897959  0.106581                               0.723781  \n",
       "6  0.816327  0.851064                               0.847688  \n",
       "7  0.863946  0.273707                               0.802370  \n",
       "8  0.870748  0.414239                               0.735762  "
      ]
     },
     "execution_count": 165,
     "metadata": {},
     "output_type": "execute_result"
    }
   ],
   "source": [
    "results"
   ]
  }
 ],
 "metadata": {
  "kernelspec": {
   "display_name": "Python 3",
   "language": "python",
   "name": "python3"
  },
  "language_info": {
   "codemirror_mode": {
    "name": "ipython",
    "version": 3
   },
   "file_extension": ".py",
   "mimetype": "text/x-python",
   "name": "python",
   "nbconvert_exporter": "python",
   "pygments_lexer": "ipython3",
   "version": "3.6.7"
  }
 },
 "nbformat": 4,
 "nbformat_minor": 2
}
